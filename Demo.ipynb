{
 "cells": [
  {
   "cell_type": "code",
   "execution_count": 5,
   "id": "03c08a84",
   "metadata": {
    "ExecuteTime": {
     "end_time": "2022-09-09T15:40:25.309869Z",
     "start_time": "2022-09-09T15:40:25.303368Z"
    }
   },
   "outputs": [],
   "source": [
    "from MainFunctions import drawReaction\n",
    "from rdkit.Chem import rdChemReactions\n",
    "import pandas as pd"
   ]
  },
  {
   "cell_type": "code",
   "execution_count": 3,
   "id": "6aac9de0",
   "metadata": {
    "ExecuteTime": {
     "end_time": "2022-09-09T15:33:18.303726Z",
     "start_time": "2022-09-09T15:33:18.238902Z"
    }
   },
   "outputs": [
    {
     "data": {
      "image/svg+xml": [
       "<svg xmlns=\"http://www.w3.org/2000/svg\" xmlns:rdkit=\"http://www.rdkit.org/xml\" xmlns:xlink=\"http://www.w3.org/1999/xlink\" version=\"1.1\" baseProfile=\"full\" xml:space=\"preserve\" width=\"1000px\" height=\"300px\" viewBox=\"0 0 1000 300\">\n",
       "<!-- END OF HEADER -->\n",
       "<rect style=\"opacity:1.0;fill:#FFFFFF;stroke:none\" width=\"1000\" height=\"300\" x=\"0\" y=\"0\"> </rect>\n",
       "<path class=\"bond-0\" d=\"M 210.432,151.867 L 193.55,151.867\" style=\"fill:none;fill-rule:evenodd;stroke:#0000FF;stroke-width:2.0px;stroke-linecap:butt;stroke-linejoin:miter;stroke-opacity:1\"/>\n",
       "<path class=\"bond-0\" d=\"M 193.55,151.867 L 176.668,151.867\" style=\"fill:none;fill-rule:evenodd;stroke:#000000;stroke-width:2.0px;stroke-linecap:butt;stroke-linejoin:miter;stroke-opacity:1\"/>\n",
       "<path class=\"bond-1\" d=\"M 176.668,151.867 L 157.209,185.57\" style=\"fill:none;fill-rule:evenodd;stroke:#000000;stroke-width:2.0px;stroke-linecap:butt;stroke-linejoin:miter;stroke-opacity:1\"/>\n",
       "<path class=\"bond-1\" d=\"M 167.008,153.03 L 153.387,176.623\" style=\"fill:none;fill-rule:evenodd;stroke:#000000;stroke-width:2.0px;stroke-linecap:butt;stroke-linejoin:miter;stroke-opacity:1;stroke-dasharray:6,6\"/>\n",
       "<path class=\"bond-7\" d=\"M 176.668,151.867 L 157.209,118.163\" style=\"fill:none;fill-rule:evenodd;stroke:#000000;stroke-width:2.0px;stroke-linecap:butt;stroke-linejoin:miter;stroke-opacity:1\"/>\n",
       "<path class=\"bond-7\" d=\"M 167.008,150.703 L 153.387,127.11\" style=\"fill:none;fill-rule:evenodd;stroke:#000000;stroke-width:2.0px;stroke-linecap:butt;stroke-linejoin:miter;stroke-opacity:1;stroke-dasharray:6,6\"/>\n",
       "<path class=\"bond-2\" d=\"M 157.209,185.57 L 118.292,185.57\" style=\"fill:none;fill-rule:evenodd;stroke:#000000;stroke-width:2.0px;stroke-linecap:butt;stroke-linejoin:miter;stroke-opacity:1\"/>\n",
       "<path class=\"bond-2\" d=\"M 151.372,177.786 L 124.13,177.786\" style=\"fill:none;fill-rule:evenodd;stroke:#000000;stroke-width:2.0px;stroke-linecap:butt;stroke-linejoin:miter;stroke-opacity:1;stroke-dasharray:6,6\"/>\n",
       "<path class=\"bond-3\" d=\"M 118.292,185.57 L 98.8334,151.867\" style=\"fill:none;fill-rule:evenodd;stroke:#000000;stroke-width:2.0px;stroke-linecap:butt;stroke-linejoin:miter;stroke-opacity:1\"/>\n",
       "<path class=\"bond-3\" d=\"M 122.114,176.623 L 108.493,153.03\" style=\"fill:none;fill-rule:evenodd;stroke:#000000;stroke-width:2.0px;stroke-linecap:butt;stroke-linejoin:miter;stroke-opacity:1;stroke-dasharray:6,6\"/>\n",
       "<path class=\"bond-4\" d=\"M 98.8334,151.867 L 82.3909,151.867\" style=\"fill:none;fill-rule:evenodd;stroke:#000000;stroke-width:2.0px;stroke-linecap:butt;stroke-linejoin:miter;stroke-opacity:1\"/>\n",
       "<path class=\"bond-4\" d=\"M 82.3909,151.867 L 65.9483,151.867\" style=\"fill:none;fill-rule:evenodd;stroke:#FF0000;stroke-width:2.0px;stroke-linecap:butt;stroke-linejoin:miter;stroke-opacity:1\"/>\n",
       "<path class=\"bond-5\" d=\"M 98.8334,151.867 L 118.292,118.163\" style=\"fill:none;fill-rule:evenodd;stroke:#000000;stroke-width:2.0px;stroke-linecap:butt;stroke-linejoin:miter;stroke-opacity:1\"/>\n",
       "<path class=\"bond-5\" d=\"M 108.493,150.703 L 122.114,127.11\" style=\"fill:none;fill-rule:evenodd;stroke:#000000;stroke-width:2.0px;stroke-linecap:butt;stroke-linejoin:miter;stroke-opacity:1;stroke-dasharray:6,6\"/>\n",
       "<path class=\"bond-6\" d=\"M 118.292,118.163 L 157.209,118.163\" style=\"fill:none;fill-rule:evenodd;stroke:#000000;stroke-width:2.0px;stroke-linecap:butt;stroke-linejoin:miter;stroke-opacity:1\"/>\n",
       "<path class=\"bond-6\" d=\"M 124.13,125.947 L 151.372,125.947\" style=\"fill:none;fill-rule:evenodd;stroke:#000000;stroke-width:2.0px;stroke-linecap:butt;stroke-linejoin:miter;stroke-opacity:1;stroke-dasharray:6,6\"/>\n",
       "<path class=\"bond-8\" d=\"M 291.196,129.628 L 324.899,149.087\" style=\"fill:none;fill-rule:evenodd;stroke:#000000;stroke-width:2.0px;stroke-linecap:butt;stroke-linejoin:miter;stroke-opacity:1\"/>\n",
       "<path class=\"bond-9\" d=\"M 321.007,149.087 L 321.007,165.272\" style=\"fill:none;fill-rule:evenodd;stroke:#000000;stroke-width:2.0px;stroke-linecap:butt;stroke-linejoin:miter;stroke-opacity:1\"/>\n",
       "<path class=\"bond-9\" d=\"M 321.007,165.272 L 321.007,181.458\" style=\"fill:none;fill-rule:evenodd;stroke:#FF0000;stroke-width:2.0px;stroke-linecap:butt;stroke-linejoin:miter;stroke-opacity:1\"/>\n",
       "<path class=\"bond-9\" d=\"M 328.791,149.087 L 328.791,165.272\" style=\"fill:none;fill-rule:evenodd;stroke:#000000;stroke-width:2.0px;stroke-linecap:butt;stroke-linejoin:miter;stroke-opacity:1\"/>\n",
       "<path class=\"bond-9\" d=\"M 328.791,165.272 L 328.791,181.458\" style=\"fill:none;fill-rule:evenodd;stroke:#FF0000;stroke-width:2.0px;stroke-linecap:butt;stroke-linejoin:miter;stroke-opacity:1\"/>\n",
       "<path class=\"bond-10\" d=\"M 324.899,149.087 L 338.735,141.099\" style=\"fill:none;fill-rule:evenodd;stroke:#000000;stroke-width:2.0px;stroke-linecap:butt;stroke-linejoin:miter;stroke-opacity:1\"/>\n",
       "<path class=\"bond-10\" d=\"M 338.735,141.099 L 352.57,133.111\" style=\"fill:none;fill-rule:evenodd;stroke:#FF0000;stroke-width:2.0px;stroke-linecap:butt;stroke-linejoin:miter;stroke-opacity:1\"/>\n",
       "<path class=\"bond-11\" d=\"M 364.634,133.111 L 378.47,141.099\" style=\"fill:none;fill-rule:evenodd;stroke:#FF0000;stroke-width:2.0px;stroke-linecap:butt;stroke-linejoin:miter;stroke-opacity:1\"/>\n",
       "<path class=\"bond-11\" d=\"M 378.47,141.099 L 392.306,149.087\" style=\"fill:none;fill-rule:evenodd;stroke:#000000;stroke-width:2.0px;stroke-linecap:butt;stroke-linejoin:miter;stroke-opacity:1\"/>\n",
       "<path class=\"bond-12\" d=\"M 392.306,149.087 L 426.009,129.628\" style=\"fill:none;fill-rule:evenodd;stroke:#000000;stroke-width:2.0px;stroke-linecap:butt;stroke-linejoin:miter;stroke-opacity:1\"/>\n",
       "<path class=\"bond-13\" d=\"M 388.414,149.087 L 388.414,165.272\" style=\"fill:none;fill-rule:evenodd;stroke:#000000;stroke-width:2.0px;stroke-linecap:butt;stroke-linejoin:miter;stroke-opacity:1\"/>\n",
       "<path class=\"bond-13\" d=\"M 388.414,165.272 L 388.414,181.458\" style=\"fill:none;fill-rule:evenodd;stroke:#FF0000;stroke-width:2.0px;stroke-linecap:butt;stroke-linejoin:miter;stroke-opacity:1\"/>\n",
       "<path class=\"bond-13\" d=\"M 396.197,149.087 L 396.197,165.272\" style=\"fill:none;fill-rule:evenodd;stroke:#000000;stroke-width:2.0px;stroke-linecap:butt;stroke-linejoin:miter;stroke-opacity:1\"/>\n",
       "<path class=\"bond-13\" d=\"M 396.197,165.272 L 396.197,181.458\" style=\"fill:none;fill-rule:evenodd;stroke:#FF0000;stroke-width:2.0px;stroke-linecap:butt;stroke-linejoin:miter;stroke-opacity:1\"/>\n",
       "<path class=\"bond-14\" d=\"M 594.65,159.078 L 632.241,149.006\" style=\"fill:none;fill-rule:evenodd;stroke:#000000;stroke-width:2.0px;stroke-linecap:butt;stroke-linejoin:miter;stroke-opacity:1\"/>\n",
       "<path class=\"bond-15\" d=\"M 636,150.013 L 640.137,134.576\" style=\"fill:none;fill-rule:evenodd;stroke:#000000;stroke-width:2.0px;stroke-linecap:butt;stroke-linejoin:miter;stroke-opacity:1\"/>\n",
       "<path class=\"bond-15\" d=\"M 640.137,134.576 L 644.273,119.139\" style=\"fill:none;fill-rule:evenodd;stroke:#FF0000;stroke-width:2.0px;stroke-linecap:butt;stroke-linejoin:miter;stroke-opacity:1\"/>\n",
       "<path class=\"bond-15\" d=\"M 628.482,147.998 L 632.618,132.561\" style=\"fill:none;fill-rule:evenodd;stroke:#000000;stroke-width:2.0px;stroke-linecap:butt;stroke-linejoin:miter;stroke-opacity:1\"/>\n",
       "<path class=\"bond-15\" d=\"M 632.618,132.561 L 636.755,117.124\" style=\"fill:none;fill-rule:evenodd;stroke:#FF0000;stroke-width:2.0px;stroke-linecap:butt;stroke-linejoin:miter;stroke-opacity:1\"/>\n",
       "<path class=\"bond-16\" d=\"M 632.241,149.006 L 643.424,160.189\" style=\"fill:none;fill-rule:evenodd;stroke:#000000;stroke-width:2.0px;stroke-linecap:butt;stroke-linejoin:miter;stroke-opacity:1\"/>\n",
       "<path class=\"bond-16\" d=\"M 643.424,160.189 L 654.607,171.372\" style=\"fill:none;fill-rule:evenodd;stroke:#0000FF;stroke-width:2.0px;stroke-linecap:butt;stroke-linejoin:miter;stroke-opacity:1\"/>\n",
       "<path class=\"bond-17\" d=\"M 664.912,175.144 L 681.132,170.798\" style=\"fill:none;fill-rule:evenodd;stroke:#0000FF;stroke-width:2.0px;stroke-linecap:butt;stroke-linejoin:miter;stroke-opacity:1\"/>\n",
       "<path class=\"bond-17\" d=\"M 681.132,170.798 L 697.351,166.452\" style=\"fill:none;fill-rule:evenodd;stroke:#000000;stroke-width:2.0px;stroke-linecap:butt;stroke-linejoin:miter;stroke-opacity:1\"/>\n",
       "<path class=\"bond-18\" d=\"M 697.351,166.452 L 707.423,128.861\" style=\"fill:none;fill-rule:evenodd;stroke:#000000;stroke-width:2.0px;stroke-linecap:butt;stroke-linejoin:miter;stroke-opacity:1\"/>\n",
       "<path class=\"bond-18\" d=\"M 706.38,162.828 L 713.431,136.514\" style=\"fill:none;fill-rule:evenodd;stroke:#000000;stroke-width:2.0px;stroke-linecap:butt;stroke-linejoin:miter;stroke-opacity:1;stroke-dasharray:6,6\"/>\n",
       "<path class=\"bond-24\" d=\"M 697.351,166.452 L 724.87,193.97\" style=\"fill:none;fill-rule:evenodd;stroke:#000000;stroke-width:2.0px;stroke-linecap:butt;stroke-linejoin:miter;stroke-opacity:1\"/>\n",
       "<path class=\"bond-24\" d=\"M 706.982,165.076 L 726.245,184.339\" style=\"fill:none;fill-rule:evenodd;stroke:#000000;stroke-width:2.0px;stroke-linecap:butt;stroke-linejoin:miter;stroke-opacity:1;stroke-dasharray:6,6\"/>\n",
       "<path class=\"bond-19\" d=\"M 707.423,128.861 L 745.015,118.788\" style=\"fill:none;fill-rule:evenodd;stroke:#000000;stroke-width:2.0px;stroke-linecap:butt;stroke-linejoin:miter;stroke-opacity:1\"/>\n",
       "<path class=\"bond-19\" d=\"M 715.077,134.868 L 741.39,127.817\" style=\"fill:none;fill-rule:evenodd;stroke:#000000;stroke-width:2.0px;stroke-linecap:butt;stroke-linejoin:miter;stroke-opacity:1;stroke-dasharray:6,6\"/>\n",
       "<path class=\"bond-20\" d=\"M 745.015,118.788 L 772.533,146.307\" style=\"fill:none;fill-rule:evenodd;stroke:#000000;stroke-width:2.0px;stroke-linecap:butt;stroke-linejoin:miter;stroke-opacity:1\"/>\n",
       "<path class=\"bond-20\" d=\"M 743.639,128.42 L 762.902,147.683\" style=\"fill:none;fill-rule:evenodd;stroke:#000000;stroke-width:2.0px;stroke-linecap:butt;stroke-linejoin:miter;stroke-opacity:1;stroke-dasharray:6,6\"/>\n",
       "<path class=\"bond-21\" d=\"M 772.533,146.307 L 788.313,142.079\" style=\"fill:none;fill-rule:evenodd;stroke:#000000;stroke-width:2.0px;stroke-linecap:butt;stroke-linejoin:miter;stroke-opacity:1\"/>\n",
       "<path class=\"bond-21\" d=\"M 788.313,142.079 L 804.092,137.851\" style=\"fill:none;fill-rule:evenodd;stroke:#FF0000;stroke-width:2.0px;stroke-linecap:butt;stroke-linejoin:miter;stroke-opacity:1\"/>\n",
       "<path class=\"bond-22\" d=\"M 772.533,146.307 L 762.461,183.898\" style=\"fill:none;fill-rule:evenodd;stroke:#000000;stroke-width:2.0px;stroke-linecap:butt;stroke-linejoin:miter;stroke-opacity:1\"/>\n",
       "<path class=\"bond-22\" d=\"M 763.504,149.931 L 756.453,176.245\" style=\"fill:none;fill-rule:evenodd;stroke:#000000;stroke-width:2.0px;stroke-linecap:butt;stroke-linejoin:miter;stroke-opacity:1;stroke-dasharray:6,6\"/>\n",
       "<path class=\"bond-23\" d=\"M 762.461,183.898 L 724.87,193.97\" style=\"fill:none;fill-rule:evenodd;stroke:#000000;stroke-width:2.0px;stroke-linecap:butt;stroke-linejoin:miter;stroke-opacity:1\"/>\n",
       "<path class=\"bond-23\" d=\"M 754.808,177.891 L 728.494,184.941\" style=\"fill:none;fill-rule:evenodd;stroke:#000000;stroke-width:2.0px;stroke-linecap:butt;stroke-linejoin:miter;stroke-opacity:1;stroke-dasharray:6,6\"/>\n",
       "<path class=\"bond-25\" d=\"M 882.08,171.325 L 915.783,151.867\" style=\"fill:none;fill-rule:evenodd;stroke:#000000;stroke-width:2.0px;stroke-linecap:butt;stroke-linejoin:miter;stroke-opacity:1\"/>\n",
       "<path class=\"bond-26\" d=\"M 913.837,155.237 L 927.673,163.225\" style=\"fill:none;fill-rule:evenodd;stroke:#000000;stroke-width:2.0px;stroke-linecap:butt;stroke-linejoin:miter;stroke-opacity:1\"/>\n",
       "<path class=\"bond-26\" d=\"M 927.673,163.225 L 941.508,171.213\" style=\"fill:none;fill-rule:evenodd;stroke:#FF0000;stroke-width:2.0px;stroke-linecap:butt;stroke-linejoin:miter;stroke-opacity:1\"/>\n",
       "<path class=\"bond-26\" d=\"M 917.729,148.496 L 931.564,156.484\" style=\"fill:none;fill-rule:evenodd;stroke:#000000;stroke-width:2.0px;stroke-linecap:butt;stroke-linejoin:miter;stroke-opacity:1\"/>\n",
       "<path class=\"bond-26\" d=\"M 931.564,156.484 L 945.4,164.472\" style=\"fill:none;fill-rule:evenodd;stroke:#FF0000;stroke-width:2.0px;stroke-linecap:butt;stroke-linejoin:miter;stroke-opacity:1\"/>\n",
       "<path class=\"bond-27\" d=\"M 915.783,151.867 L 915.783,135.767\" style=\"fill:none;fill-rule:evenodd;stroke:#000000;stroke-width:2.0px;stroke-linecap:butt;stroke-linejoin:miter;stroke-opacity:1\"/>\n",
       "<path class=\"bond-27\" d=\"M 915.783,135.767 L 915.783,119.666\" style=\"fill:none;fill-rule:evenodd;stroke:#FF0000;stroke-width:2.0px;stroke-linecap:butt;stroke-linejoin:miter;stroke-opacity:1\"/>\n",
       "<path class=\"atom-0\" d=\"M 213.149 146.356 L 216.76 152.193 Q 217.118 152.769, 217.694 153.812 Q 218.27 154.855, 218.301 154.918 L 218.301 146.356 L 219.765 146.356 L 219.765 157.377 L 218.255 157.377 L 214.379 150.995 Q 213.927 150.248, 213.445 149.391 Q 212.978 148.535, 212.837 148.271 L 212.837 157.377 L 211.405 157.377 L 211.405 146.356 L 213.149 146.356 \" fill=\"#0000FF\"/>\n",
       "<path class=\"atom-0\" d=\"M 221.088 146.356 L 222.582 146.356 L 222.582 151.042 L 228.218 151.042 L 228.218 146.356 L 229.712 146.356 L 229.712 157.377 L 228.218 157.377 L 228.218 152.287 L 222.582 152.287 L 222.582 157.377 L 221.088 157.377 L 221.088 146.356 \" fill=\"#0000FF\"/>\n",
       "<path class=\"atom-0\" d=\"M 230.246 156.991 Q 230.513 156.302, 231.15 155.922 Q 231.787 155.532, 232.671 155.532 Q 233.77 155.532, 234.387 156.128 Q 235.003 156.723, 235.003 157.782 Q 235.003 158.86, 234.202 159.867 Q 233.411 160.874, 231.767 162.066 L 235.126 162.066 L 235.126 162.888 L 230.226 162.888 L 230.226 162.2 Q 231.582 161.234, 232.383 160.515 Q 233.195 159.795, 233.585 159.148 Q 233.976 158.501, 233.976 157.833 Q 233.976 157.134, 233.626 156.744 Q 233.277 156.354, 232.671 156.354 Q 232.085 156.354, 231.695 156.59 Q 231.304 156.826, 231.027 157.35 L 230.246 156.991 \" fill=\"#0000FF\"/>\n",
       "<path class=\"atom-5\" d=\"M 45.4545 146.418 L 46.949 146.418 L 46.949 151.104 L 52.5842 151.104 L 52.5842 146.418 L 54.0786 146.418 L 54.0786 157.44 L 52.5842 157.44 L 52.5842 152.349 L 46.949 152.349 L 46.949 157.44 L 45.4545 157.44 L 45.4545 146.418 \" fill=\"#FF0000\"/>\n",
       "<path class=\"atom-5\" d=\"M 54.8569 151.898 Q 54.8569 149.251, 56.1646 147.772 Q 57.4722 146.294, 59.9162 146.294 Q 62.3602 146.294, 63.6678 147.772 Q 64.9754 149.251, 64.9754 151.898 Q 64.9754 154.575, 63.6522 156.101 Q 62.329 157.611, 59.9162 157.611 Q 57.4877 157.611, 56.1646 156.101 Q 54.8569 154.591, 54.8569 151.898 M 59.9162 156.365 Q 61.5974 156.365, 62.5003 155.245 Q 63.4187 154.108, 63.4187 151.898 Q 63.4187 149.734, 62.5003 148.644 Q 61.5974 147.539, 59.9162 147.539 Q 58.235 147.539, 57.3165 148.629 Q 56.4136 149.718, 56.4136 151.898 Q 56.4136 154.124, 57.3165 155.245 Q 58.235 156.365, 59.9162 156.365 \" fill=\"#FF0000\"/>\n",
       "<path class=\"atom-10\" d=\"M 319.84 188.035 Q 319.84 185.389, 321.147 183.91 Q 322.455 182.431, 324.899 182.431 Q 327.343 182.431, 328.651 183.91 Q 329.958 185.389, 329.958 188.035 Q 329.958 190.713, 328.635 192.238 Q 327.312 193.748, 324.899 193.748 Q 322.471 193.748, 321.147 192.238 Q 319.84 190.728, 319.84 188.035 M 324.899 192.503 Q 326.58 192.503, 327.483 191.382 Q 328.402 190.246, 328.402 188.035 Q 328.402 185.871, 327.483 184.782 Q 326.58 183.676, 324.899 183.676 Q 323.218 183.676, 322.299 184.766 Q 321.396 185.856, 321.396 188.035 Q 321.396 190.261, 322.299 191.382 Q 323.218 192.503, 324.899 192.503 \" fill=\"#FF0000\"/>\n",
       "<path class=\"atom-11\" d=\"M 353.543 129.659 Q 353.543 127.013, 354.851 125.534 Q 356.158 124.055, 358.602 124.055 Q 361.046 124.055, 362.354 125.534 Q 363.662 127.013, 363.662 129.659 Q 363.662 132.337, 362.338 133.862 Q 361.015 135.372, 358.602 135.372 Q 356.174 135.372, 354.851 133.862 Q 353.543 132.352, 353.543 129.659 M 358.602 134.127 Q 360.284 134.127, 361.186 133.006 Q 362.105 131.87, 362.105 129.659 Q 362.105 127.496, 361.186 126.406 Q 360.284 125.301, 358.602 125.301 Q 356.921 125.301, 356.003 126.39 Q 355.1 127.48, 355.1 129.659 Q 355.1 131.885, 356.003 133.006 Q 356.921 134.127, 358.602 134.127 \" fill=\"#FF0000\"/>\n",
       "<path class=\"atom-14\" d=\"M 387.246 188.035 Q 387.246 185.389, 388.554 183.91 Q 389.862 182.431, 392.306 182.431 Q 394.75 182.431, 396.057 183.91 Q 397.365 185.389, 397.365 188.035 Q 397.365 190.713, 396.042 192.238 Q 394.718 193.748, 392.306 193.748 Q 389.877 193.748, 388.554 192.238 Q 387.246 190.728, 387.246 188.035 M 392.306 192.503 Q 393.987 192.503, 394.89 191.382 Q 395.808 190.246, 395.808 188.035 Q 395.808 185.871, 394.89 184.782 Q 393.987 183.676, 392.306 183.676 Q 390.624 183.676, 389.706 184.766 Q 388.803 185.856, 388.803 188.035 Q 388.803 190.261, 389.706 191.382 Q 390.624 192.503, 392.306 192.503 \" fill=\"#FF0000\"/>\n",
       "<path class=\"atom-17\" d=\"M 637.254 111.446 Q 637.254 108.799, 638.562 107.32 Q 639.87 105.842, 642.314 105.842 Q 644.758 105.842, 646.065 107.32 Q 647.373 108.799, 647.373 111.446 Q 647.373 114.123, 646.05 115.649 Q 644.727 117.159, 642.314 117.159 Q 639.885 117.159, 638.562 115.649 Q 637.254 114.139, 637.254 111.446 M 642.314 115.913 Q 643.995 115.913, 644.898 114.793 Q 645.816 113.656, 645.816 111.446 Q 645.816 109.282, 644.898 108.192 Q 643.995 107.087, 642.314 107.087 Q 640.632 107.087, 639.714 108.177 Q 638.811 109.266, 638.811 111.446 Q 638.811 113.672, 639.714 114.793 Q 640.632 115.913, 642.314 115.913 \" fill=\"#FF0000\"/>\n",
       "<path class=\"atom-18\" d=\"M 657.324 171.014 L 660.935 176.851 Q 661.293 177.427, 661.869 178.47 Q 662.445 179.513, 662.476 179.575 L 662.476 171.014 L 663.94 171.014 L 663.94 182.035 L 662.43 182.035 L 658.553 175.653 Q 658.102 174.905, 657.619 174.049 Q 657.152 173.193, 657.012 172.928 L 657.012 182.035 L 655.58 182.035 L 655.58 171.014 L 657.324 171.014 \" fill=\"#0000FF\"/>\n",
       "<path class=\"atom-18\" d=\"M 655.448 183.137 L 656.942 183.137 L 656.942 187.823 L 662.577 187.823 L 662.577 183.137 L 664.072 183.137 L 664.072 194.158 L 662.577 194.158 L 662.577 189.068 L 656.942 189.068 L 656.942 194.158 L 655.448 194.158 L 655.448 183.137 \" fill=\"#0000FF\"/>\n",
       "<path class=\"atom-23\" d=\"M 805.065 136.265 Q 805.065 133.619, 806.373 132.14 Q 807.68 130.661, 810.124 130.661 Q 812.568 130.661, 813.876 132.14 Q 815.184 133.619, 815.184 136.265 Q 815.184 138.943, 813.86 140.468 Q 812.537 141.978, 810.124 141.978 Q 807.696 141.978, 806.373 140.468 Q 805.065 138.958, 805.065 136.265 M 810.124 140.733 Q 811.806 140.733, 812.708 139.612 Q 813.627 138.476, 813.627 136.265 Q 813.627 134.102, 812.708 133.012 Q 811.806 131.907, 810.124 131.907 Q 808.443 131.907, 807.525 132.996 Q 806.622 134.086, 806.622 136.265 Q 806.622 138.491, 807.525 139.612 Q 808.443 140.733, 810.124 140.733 \" fill=\"#FF0000\"/>\n",
       "<path class=\"atom-23\" d=\"M 816.507 130.786 L 818.001 130.786 L 818.001 135.471 L 823.636 135.471 L 823.636 130.786 L 825.131 130.786 L 825.131 141.807 L 823.636 141.807 L 823.636 136.717 L 818.001 136.717 L 818.001 141.807 L 816.507 141.807 L 816.507 130.786 \" fill=\"#FF0000\"/>\n",
       "<path class=\"atom-28\" d=\"M 944.427 171.356 Q 944.427 168.71, 945.735 167.231 Q 947.042 165.752, 949.486 165.752 Q 951.93 165.752, 953.238 167.231 Q 954.545 168.71, 954.545 171.356 Q 954.545 174.034, 953.222 175.559 Q 951.899 177.069, 949.486 177.069 Q 947.058 177.069, 945.735 175.559 Q 944.427 174.049, 944.427 171.356 M 949.486 175.824 Q 951.167 175.824, 952.07 174.703 Q 952.989 173.567, 952.989 171.356 Q 952.989 169.193, 952.07 168.103 Q 951.167 166.998, 949.486 166.998 Q 947.805 166.998, 946.887 168.087 Q 945.984 169.177, 945.984 171.356 Q 945.984 173.582, 946.887 174.703 Q 947.805 175.824, 949.486 175.824 \" fill=\"#FF0000\"/>\n",
       "<path class=\"atom-29\" d=\"M 910.724 112.98 Q 910.724 110.334, 912.031 108.855 Q 913.339 107.376, 915.783 107.376 Q 918.227 107.376, 919.535 108.855 Q 920.842 110.334, 920.842 112.98 Q 920.842 115.658, 919.519 117.184 Q 918.196 118.694, 915.783 118.694 Q 913.354 118.694, 912.031 117.184 Q 910.724 115.674, 910.724 112.98 M 915.783 117.448 Q 917.464 117.448, 918.367 116.327 Q 919.285 115.191, 919.285 112.98 Q 919.285 110.817, 918.367 109.727 Q 917.464 108.622, 915.783 108.622 Q 914.102 108.622, 913.183 109.711 Q 912.28 110.801, 912.28 112.98 Q 912.28 115.207, 913.183 116.327 Q 914.102 117.448, 915.783 117.448 \" fill=\"#FF0000\"/>\n",
       "<path class=\"atom-29\" d=\"M 922.165 107.501 L 923.66 107.501 L 923.66 112.187 L 929.295 112.187 L 929.295 107.501 L 930.789 107.501 L 930.789 118.522 L 929.295 118.522 L 929.295 113.432 L 923.66 113.432 L 923.66 118.522 L 922.165 118.522 L 922.165 107.501 \" fill=\"#FF0000\"/>\n",
       "<path d=\"M 257.779 147.559 L 263.827 147.559 L 263.827 141.191 L 266.515 141.191 L 266.515 147.559 L 272.723 147.559 L 272.723 149.863 L 266.515 149.863 L 266.515 156.263 L 263.827 156.263 L 263.827 149.863 L 257.779 149.863 L 257.779 147.559 \" fill=\"#000000\"/>\n",
       "<path d=\"M 848.663 147.559 L 854.711 147.559 L 854.711 141.191 L 857.399 141.191 L 857.399 147.559 L 863.607 147.559 L 863.607 149.863 L 857.399 149.863 L 857.399 156.263 L 854.711 156.263 L 854.711 149.863 L 848.663 149.863 L 848.663 147.559 \" fill=\"#000000\"/>\n",
       "<path d=\"M 451.954,149.863 L 555.733,149.863\" style=\"fill:none;fill-rule:evenodd;stroke:#000000;stroke-width:2.0px;stroke-linecap:butt;stroke-linejoin:miter;stroke-opacity:1\"/>\n",
       "<path d=\"M 555.733,149.863 L 551.239,147.269\" style=\"fill:none;fill-rule:evenodd;stroke:#000000;stroke-width:2.0px;stroke-linecap:butt;stroke-linejoin:miter;stroke-opacity:1\"/>\n",
       "<path d=\"M 555.733,149.863 L 551.239,152.458\" style=\"fill:none;fill-rule:evenodd;stroke:#000000;stroke-width:2.0px;stroke-linecap:butt;stroke-linejoin:miter;stroke-opacity:1\"/>\n",
       "</svg>"
      ],
      "text/plain": [
       "<IPython.core.display.SVG object>"
      ]
     },
     "execution_count": 3,
     "metadata": {},
     "output_type": "execute_result"
    }
   ],
   "source": [
    "drawReaction(rdChemReactions.ReactionFromSmarts(\"Nc1ccc(O)cc1.CC(=O)OC(C)=O>>CC(=O)Nc1ccc(O)cc1.CC(=O)O\",useSmiles=True))"
   ]
  },
  {
   "cell_type": "code",
   "execution_count": 4,
   "id": "5d30b582",
   "metadata": {
    "ExecuteTime": {
     "end_time": "2022-09-09T15:40:13.551822Z",
     "start_time": "2022-09-09T15:40:13.543856Z"
    }
   },
   "outputs": [],
   "source": [
    "from Visualize import visfragment"
   ]
  },
  {
   "cell_type": "code",
   "execution_count": 6,
   "id": "d341fbf0",
   "metadata": {
    "ExecuteTime": {
     "end_time": "2022-09-09T15:42:02.596331Z",
     "start_time": "2022-09-09T15:41:38.002566Z"
    }
   },
   "outputs": [],
   "source": [
    "fragdb=pd.read_pickle(\"/home/aa2133/Impurity-Project/Reaxys_Data/fragdb.pickle\")"
   ]
  },
  {
   "cell_type": "code",
   "execution_count": 8,
   "id": "8571c190",
   "metadata": {
    "ExecuteTime": {
     "end_time": "2022-09-09T15:42:26.211247Z",
     "start_time": "2022-09-09T15:42:26.067566Z"
    }
   },
   "outputs": [
    {
     "data": {
      "text/markdown": [
       "<h3><center><strong>Species</strong></center></h3>"
      ],
      "text/plain": [
       "<IPython.core.display.Markdown object>"
      ]
     },
     "metadata": {},
     "output_type": "display_data"
    },
    {
     "data": {
      "application/vnd.jupyter.widget-view+json": {
       "model_id": "3691572d0fbd4da9af1df5fe3095222e",
       "version_major": 2,
       "version_minor": 0
      },
      "text/plain": [
       "HBox(children=(VBox(children=(SelectionSlider(continuous_update=False, description='Species ID', options=('', …"
      ]
     },
     "metadata": {},
     "output_type": "display_data"
    },
    {
     "data": {
      "text/markdown": [
       "<h3><center><strong>Fragments</strong></center></h3>"
      ],
      "text/plain": [
       "<IPython.core.display.Markdown object>"
      ]
     },
     "metadata": {},
     "output_type": "display_data"
    },
    {
     "data": {
      "application/vnd.jupyter.widget-view+json": {
       "model_id": "b5b0234372544cac8ee4ae68566bd43a",
       "version_major": 2,
       "version_minor": 0
      },
      "text/plain": [
       "HBox(children=(Dropdown(description='Fragment', options=('',), value=''), IntSlider(value=1, description='Expa…"
      ]
     },
     "metadata": {},
     "output_type": "display_data"
    },
    {
     "data": {
      "application/vnd.jupyter.widget-view+json": {
       "model_id": "d17cc563142f47d9a34ce5473983252c",
       "version_major": 2,
       "version_minor": 0
      },
      "text/plain": [
       "Output()"
      ]
     },
     "metadata": {},
     "output_type": "display_data"
    }
   ],
   "source": [
    "visfragment(fragdbsource=fragdb[:20],displayres=True)"
   ]
  }
 ],
 "metadata": {
  "kernelspec": {
   "display_name": "Python [conda env:impurityproject] *",
   "language": "python",
   "name": "conda-env-impurityproject-py"
  },
  "language_info": {
   "codemirror_mode": {
    "name": "ipython",
    "version": 3
   },
   "file_extension": ".py",
   "mimetype": "text/x-python",
   "name": "python",
   "nbconvert_exporter": "python",
   "pygments_lexer": "ipython3",
   "version": "3.8.8"
  },
  "toc": {
   "base_numbering": 1,
   "nav_menu": {},
   "number_sections": true,
   "sideBar": true,
   "skip_h1_title": false,
   "title_cell": "Table of Contents",
   "title_sidebar": "Contents",
   "toc_cell": false,
   "toc_position": {},
   "toc_section_display": true,
   "toc_window_display": false
  },
  "widgets": {
   "application/vnd.jupyter.widget-state+json": {
    "state": {
     "0d27c7eb94324e94a4ef4ad6c7af1e66": {
      "model_module": "@jupyter-widgets/base",
      "model_module_version": "1.2.0",
      "model_name": "LayoutModel",
      "state": {}
     },
     "12577575957340ea937e0d816e747e30": {
      "model_module": "@jupyter-widgets/controls",
      "model_module_version": "1.5.0",
      "model_name": "DescriptionStyleModel",
      "state": {
       "description_width": ""
      }
     },
     "2d6d683cb6434f95bd1ee976cf60d37d": {
      "model_module": "@jupyter-widgets/controls",
      "model_module_version": "1.5.0",
      "model_name": "DropdownModel",
      "state": {
       "_options_labels": [
        "",
        "CF",
        "CBr"
       ],
       "description": "Fragment",
       "index": 2,
       "layout": "IPY_MODEL_b488839747ba4c72bd90333e563503c8",
       "style": "IPY_MODEL_4a6dac129f8a461c9be37af419bc3a98"
      }
     },
     "31c4758c27dc4cb2b89b31eb6c64d19f": {
      "model_module": "@jupyter-widgets/base",
      "model_module_version": "1.2.0",
      "model_name": "LayoutModel",
      "state": {
       "height": "auto",
       "width": "50%"
      }
     },
     "3691572d0fbd4da9af1df5fe3095222e": {
      "model_module": "@jupyter-widgets/controls",
      "model_module_version": "1.5.0",
      "model_name": "HBoxModel",
      "state": {
       "children": [
        "IPY_MODEL_8d8ebb8905694a87b8c9786d750bcb11",
        "IPY_MODEL_8b8e67d4ee5d412abbd9cae0aa7ca8bf"
       ],
       "layout": "IPY_MODEL_a3582a5ed2f24134b03b79c03ec21555"
      }
     },
     "4a6dac129f8a461c9be37af419bc3a98": {
      "model_module": "@jupyter-widgets/controls",
      "model_module_version": "1.5.0",
      "model_name": "DescriptionStyleModel",
      "state": {
       "description_width": ""
      }
     },
     "51ae7bd928b9403b8a1161c6042441ad": {
      "model_module": "@jupyter-widgets/controls",
      "model_module_version": "1.5.0",
      "model_name": "IntSliderModel",
      "state": {
       "description": "Expand",
       "layout": "IPY_MODEL_c0d10da55f9c4404828f2e8214348a0a",
       "max": 10,
       "style": "IPY_MODEL_72151ab7999a45f198a4218fbda9826d",
       "value": 1
      }
     },
     "544cb35fc29f4133b855de9c72468278": {
      "model_module": "@jupyter-widgets/controls",
      "model_module_version": "1.5.0",
      "model_name": "DescriptionStyleModel",
      "state": {
       "description_width": "initial"
      }
     },
     "574c6fb30e9348f6a0f606a92b662d15": {
      "model_module": "@jupyter-widgets/controls",
      "model_module_version": "1.5.0",
      "model_name": "TextModel",
      "state": {
       "description": "Species ID",
       "layout": "IPY_MODEL_9e8a7e8b4772462db3e38f4cd334a1b5",
       "style": "IPY_MODEL_6dc273270db746478540907a1e600d99",
       "value": "6890270"
      }
     },
     "59bcb6fdb5b24747af40e5757c5e5216": {
      "model_module": "@jupyter-widgets/base",
      "model_module_version": "1.2.0",
      "model_name": "LayoutModel",
      "state": {
       "height": "auto",
       "width": "50%"
      }
     },
     "664a39011c544644a2f6102a849c20bf": {
      "model_module": "@jupyter-widgets/controls",
      "model_module_version": "1.5.0",
      "model_name": "SelectionSliderModel",
      "state": {
       "_options_labels": [
        "",
        "CC(C)(C)[C@@H]1CC[C@@](C)(F)[C@H](Br)C1",
        "Cc1cc(-c2nc3cc(F)ccc3c3cc4c(cc23)OCO4)ccc1F",
        "[Gd+3].[Na+].[O-]B([O-])[O-].[Tb+3]",
        "Nc1cc(F)c(N2CC(F)C2)c(F)c1",
        "CCCCOc1ccc(-c2nc(-c3ccc(Cl)cc3)[nH]c2-c2ccncc2)c(OCCCC)c1",
        "CC(C)(C)OC(=O)C=C1C[N+]([O-])=C(c2ccccc2F)c2cc(Cl)ccc2N1"
       ],
       "continuous_update": false,
       "description": "SMILES",
       "index": 1,
       "layout": "IPY_MODEL_0d27c7eb94324e94a4ef4ad6c7af1e66",
       "style": "IPY_MODEL_b420d0bed3e64f6698e55933efb9bf68"
      }
     },
     "6dc273270db746478540907a1e600d99": {
      "model_module": "@jupyter-widgets/controls",
      "model_module_version": "1.5.0",
      "model_name": "DescriptionStyleModel",
      "state": {
       "description_width": ""
      }
     },
     "72151ab7999a45f198a4218fbda9826d": {
      "model_module": "@jupyter-widgets/controls",
      "model_module_version": "1.5.0",
      "model_name": "SliderStyleModel",
      "state": {
       "description_width": ""
      }
     },
     "7302cd51d31f47f3b66909172ded3f39": {
      "model_module": "@jupyter-widgets/base",
      "model_module_version": "1.2.0",
      "model_name": "LayoutModel",
      "state": {}
     },
     "8b8e67d4ee5d412abbd9cae0aa7ca8bf": {
      "model_module": "@jupyter-widgets/controls",
      "model_module_version": "1.5.0",
      "model_name": "VBoxModel",
      "state": {
       "children": [
        "IPY_MODEL_664a39011c544644a2f6102a849c20bf",
        "IPY_MODEL_acdb28ed319a43a1a4310e7bcf5a586a"
       ],
       "layout": "IPY_MODEL_31c4758c27dc4cb2b89b31eb6c64d19f"
      }
     },
     "8d60d5f51ecd47e780717319b069ac42": {
      "model_module": "@jupyter-widgets/base",
      "model_module_version": "1.2.0",
      "model_name": "LayoutModel",
      "state": {}
     },
     "8d8ebb8905694a87b8c9786d750bcb11": {
      "model_module": "@jupyter-widgets/controls",
      "model_module_version": "1.5.0",
      "model_name": "VBoxModel",
      "state": {
       "children": [
        "IPY_MODEL_ff85b3b0681d4ffd804fa5663ad34165",
        "IPY_MODEL_574c6fb30e9348f6a0f606a92b662d15"
       ],
       "layout": "IPY_MODEL_59bcb6fdb5b24747af40e5757c5e5216"
      }
     },
     "9e8a7e8b4772462db3e38f4cd334a1b5": {
      "model_module": "@jupyter-widgets/base",
      "model_module_version": "1.2.0",
      "model_name": "LayoutModel",
      "state": {}
     },
     "a174c960e9ac430cae75434ce5cb03f4": {
      "model_module": "@jupyter-widgets/base",
      "model_module_version": "1.2.0",
      "model_name": "LayoutModel",
      "state": {
       "border": "5px solid green",
       "height": "auto",
       "width": "100%"
      }
     },
     "a3582a5ed2f24134b03b79c03ec21555": {
      "model_module": "@jupyter-widgets/base",
      "model_module_version": "1.2.0",
      "model_name": "LayoutModel",
      "state": {
       "border": "5px solid green",
       "height": "auto",
       "width": "100%"
      }
     },
     "acdb28ed319a43a1a4310e7bcf5a586a": {
      "model_module": "@jupyter-widgets/controls",
      "model_module_version": "1.5.0",
      "model_name": "TextModel",
      "state": {
       "description": "Custom species SMILES",
       "layout": "IPY_MODEL_dd05f5c187b4465785ed5d797d72e224",
       "style": "IPY_MODEL_c8e980d0d8b24a1ca7124abb95969640"
      }
     },
     "b420d0bed3e64f6698e55933efb9bf68": {
      "model_module": "@jupyter-widgets/controls",
      "model_module_version": "1.5.0",
      "model_name": "DescriptionStyleModel",
      "state": {
       "description_width": ""
      }
     },
     "b488839747ba4c72bd90333e563503c8": {
      "model_module": "@jupyter-widgets/base",
      "model_module_version": "1.2.0",
      "model_name": "LayoutModel",
      "state": {}
     },
     "b5b0234372544cac8ee4ae68566bd43a": {
      "model_module": "@jupyter-widgets/controls",
      "model_module_version": "1.5.0",
      "model_name": "HBoxModel",
      "state": {
       "children": [
        "IPY_MODEL_2d6d683cb6434f95bd1ee976cf60d37d",
        "IPY_MODEL_51ae7bd928b9403b8a1161c6042441ad",
        "IPY_MODEL_f7f224390d644fbab0413bb667344e2f"
       ],
       "layout": "IPY_MODEL_a174c960e9ac430cae75434ce5cb03f4"
      }
     },
     "c0d10da55f9c4404828f2e8214348a0a": {
      "model_module": "@jupyter-widgets/base",
      "model_module_version": "1.2.0",
      "model_name": "LayoutModel",
      "state": {}
     },
     "c8e980d0d8b24a1ca7124abb95969640": {
      "model_module": "@jupyter-widgets/controls",
      "model_module_version": "1.5.0",
      "model_name": "DescriptionStyleModel",
      "state": {
       "description_width": "initial"
      }
     },
     "d17cc563142f47d9a34ce5473983252c": {
      "model_module": "@jupyter-widgets/output",
      "model_module_version": "1.0.0",
      "model_name": "OutputModel",
      "state": {
       "layout": "IPY_MODEL_8d60d5f51ecd47e780717319b069ac42",
       "outputs": [
        {
         "data": {
          "image/svg+xml": "<svg xmlns=\"http://www.w3.org/2000/svg\" xmlns:rdkit=\"http://www.rdkit.org/xml\" xmlns:xlink=\"http://www.w3.org/1999/xlink\" version=\"1.1\" baseProfile=\"full\" xml:space=\"preserve\" width=\"500px\" height=\"500px\" viewBox=\"0 0 500 500\">\n<!-- END OF HEADER -->\n<rect style=\"opacity:1.0;fill:#FFFFFF;stroke:none\" width=\"500\" height=\"500\" x=\"0\" y=\"0\"> </rect>\n<path d=\"M 209.356,180.206 L 160.122,135.494\" style=\"fill:none;fill-rule:evenodd;stroke:#B2FFB2;stroke-width:14.2px;stroke-linecap:butt;stroke-linejoin:miter;stroke-opacity:1\"/>\n<ellipse cx=\"209.356\" cy=\"180.206\" rx=\"13.3013\" ry=\"13.3013\" style=\"fill:#B2FFB2;fill-rule:evenodd;stroke:#B2FFB2;stroke-width:1px;stroke-linecap:butt;stroke-linejoin:miter;stroke-opacity:1\"/>\n<ellipse cx=\"152.594\" cy=\"135.494\" rx=\"16.1962\" ry=\"13.3181\" style=\"fill:#B2FFB2;fill-rule:evenodd;stroke:#B2FFB2;stroke-width:1px;stroke-linecap:butt;stroke-linejoin:miter;stroke-opacity:1\"/>\n<path class=\"bond-0\" d=\"M 322.945,187.661 L 343.226,251\" style=\"fill:none;fill-rule:evenodd;stroke:#000000;stroke-width:2.0px;stroke-linecap:butt;stroke-linejoin:miter;stroke-opacity:1\"/>\n<path class=\"bond-13\" d=\"M 322.945,187.661 L 312.64,133.403\" style=\"fill:none;fill-rule:evenodd;stroke:#000000;stroke-width:2.0px;stroke-linecap:butt;stroke-linejoin:miter;stroke-opacity:1\"/>\n<path class=\"bond-14\" d=\"M 322.945,187.661 L 374.307,163.975\" style=\"fill:none;fill-rule:evenodd;stroke:#000000;stroke-width:2.0px;stroke-linecap:butt;stroke-linejoin:miter;stroke-opacity:1\"/>\n<path class=\"bond-15\" d=\"M 322.945,187.661 L 295.929,189.433\" style=\"fill:none;fill-rule:evenodd;stroke:#000000;stroke-width:2.0px;stroke-linecap:butt;stroke-linejoin:miter;stroke-opacity:1\"/>\n<path class=\"bond-1\" d=\"M 343.226,251 L 363.508,314.339\" style=\"fill:none;fill-rule:evenodd;stroke:#000000;stroke-width:2.0px;stroke-linecap:butt;stroke-linejoin:miter;stroke-opacity:1\"/>\n<path class=\"bond-2\" d=\"M 343.226,251 L 406.565,230.719\" style=\"fill:none;fill-rule:evenodd;stroke:#000000;stroke-width:2.0px;stroke-linecap:butt;stroke-linejoin:miter;stroke-opacity:1\"/>\n<path class=\"bond-3\" d=\"M 343.226,251 L 279.888,271.281\" style=\"fill:none;fill-rule:evenodd;stroke:#000000;stroke-width:2.0px;stroke-linecap:butt;stroke-linejoin:miter;stroke-opacity:1\"/>\n<path class=\"bond-16\" d=\"M 363.508,314.339 L 380.241,366.597\" style=\"fill:none;fill-rule:evenodd;stroke:#000000;stroke-width:2.0px;stroke-linecap:butt;stroke-linejoin:miter;stroke-opacity:1\"/>\n<path class=\"bond-17\" d=\"M 363.508,314.339 L 419.815,303.645\" style=\"fill:none;fill-rule:evenodd;stroke:#000000;stroke-width:2.0px;stroke-linecap:butt;stroke-linejoin:miter;stroke-opacity:1\"/>\n<path class=\"bond-18\" d=\"M 363.508,314.339 L 315.99,343.753\" style=\"fill:none;fill-rule:evenodd;stroke:#000000;stroke-width:2.0px;stroke-linecap:butt;stroke-linejoin:miter;stroke-opacity:1\"/>\n<path class=\"bond-19\" d=\"M 406.565,230.719 L 460.872,213.329\" style=\"fill:none;fill-rule:evenodd;stroke:#000000;stroke-width:2.0px;stroke-linecap:butt;stroke-linejoin:miter;stroke-opacity:1\"/>\n<path class=\"bond-20\" d=\"M 406.565,230.719 L 396.26,176.46\" style=\"fill:none;fill-rule:evenodd;stroke:#000000;stroke-width:2.0px;stroke-linecap:butt;stroke-linejoin:miter;stroke-opacity:1\"/>\n<path class=\"bond-21\" d=\"M 406.565,230.719 L 429.306,280.033\" style=\"fill:none;fill-rule:evenodd;stroke:#000000;stroke-width:2.0px;stroke-linecap:butt;stroke-linejoin:miter;stroke-opacity:1\"/>\n<path class=\"bond-4\" d=\"M 279.888,271.281 L 227.305,312.003\" style=\"fill:none;fill-rule:evenodd;stroke:#000000;stroke-width:2.0px;stroke-linecap:butt;stroke-linejoin:miter;stroke-opacity:1\"/>\n<path class=\"bond-12\" d=\"M 279.888,271.281 L 270.913,205.383\" style=\"fill:none;fill-rule:evenodd;stroke:#000000;stroke-width:2.0px;stroke-linecap:butt;stroke-linejoin:miter;stroke-opacity:1\"/>\n<path class=\"bond-22\" d=\"M 279.888,271.281 L 295.524,323.806 L 302.987,320.978 Z\" style=\"fill:#000000;fill-rule:evenodd;fill-opacity:1;stroke:#000000;stroke-width:2px;stroke-linecap:butt;stroke-linejoin:miter;stroke-opacity:1;\"/>\n<path class=\"bond-5\" d=\"M 227.305,312.003 L 165.748,286.826\" style=\"fill:none;fill-rule:evenodd;stroke:#000000;stroke-width:2.0px;stroke-linecap:butt;stroke-linejoin:miter;stroke-opacity:1\"/>\n<path class=\"bond-23\" d=\"M 227.305,312.003 L 261.69,351.903\" style=\"fill:none;fill-rule:evenodd;stroke:#000000;stroke-width:2.0px;stroke-linecap:butt;stroke-linejoin:miter;stroke-opacity:1\"/>\n<path class=\"bond-24\" d=\"M 227.305,312.003 L 198.811,357.173\" style=\"fill:none;fill-rule:evenodd;stroke:#000000;stroke-width:2.0px;stroke-linecap:butt;stroke-linejoin:miter;stroke-opacity:1\"/>\n<path class=\"bond-6\" d=\"M 165.748,286.826 L 156.774,220.928\" style=\"fill:none;fill-rule:evenodd;stroke:#000000;stroke-width:2.0px;stroke-linecap:butt;stroke-linejoin:miter;stroke-opacity:1\"/>\n<path class=\"bond-25\" d=\"M 165.748,286.826 L 154.048,340.74\" style=\"fill:none;fill-rule:evenodd;stroke:#000000;stroke-width:2.0px;stroke-linecap:butt;stroke-linejoin:miter;stroke-opacity:1\"/>\n<path class=\"bond-26\" d=\"M 165.748,286.826 L 108.502,291.59\" style=\"fill:none;fill-rule:evenodd;stroke:#000000;stroke-width:2.0px;stroke-linecap:butt;stroke-linejoin:miter;stroke-opacity:1\"/>\n<path class=\"bond-7\" d=\"M 156.774,220.928 L 93.435,241.209\" style=\"fill:none;fill-rule:evenodd;stroke:#000000;stroke-width:2.0px;stroke-linecap:butt;stroke-linejoin:miter;stroke-opacity:1\"/>\n<path class=\"bond-8\" d=\"M 156.774,220.928 L 145.969,196.111 L 142.437,197.969 Z\" style=\"fill:#000000;fill-rule:evenodd;fill-opacity:1;stroke:#000000;stroke-width:2px;stroke-linecap:butt;stroke-linejoin:miter;stroke-opacity:1;\"/>\n<path class=\"bond-8\" d=\"M 145.969,196.111 L 128.101,175.011 L 135.164,171.295 Z\" style=\"fill:#33CCCC;fill-rule:evenodd;fill-opacity:1;stroke:#33CCCC;stroke-width:2px;stroke-linecap:butt;stroke-linejoin:miter;stroke-opacity:1;\"/>\n<path class=\"bond-8\" d=\"M 145.969,196.111 L 142.437,197.969 L 128.101,175.011 Z\" style=\"fill:#33CCCC;fill-rule:evenodd;fill-opacity:1;stroke:#33CCCC;stroke-width:2px;stroke-linecap:butt;stroke-linejoin:miter;stroke-opacity:1;\"/>\n<path class=\"bond-9\" d=\"M 156.774,220.928 L 209.356,180.206\" style=\"fill:none;fill-rule:evenodd;stroke:#000000;stroke-width:2.0px;stroke-linecap:butt;stroke-linejoin:miter;stroke-opacity:1\"/>\n<path class=\"bond-27\" d=\"M 93.435,241.209 L 39.1278,258.598\" style=\"fill:none;fill-rule:evenodd;stroke:#000000;stroke-width:2.0px;stroke-linecap:butt;stroke-linejoin:miter;stroke-opacity:1\"/>\n<path class=\"bond-28\" d=\"M 93.435,241.209 L 76.7014,188.95\" style=\"fill:none;fill-rule:evenodd;stroke:#000000;stroke-width:2.0px;stroke-linecap:butt;stroke-linejoin:miter;stroke-opacity:1\"/>\n<path class=\"bond-29\" d=\"M 93.435,241.209 L 103.74,295.468\" style=\"fill:none;fill-rule:evenodd;stroke:#000000;stroke-width:2.0px;stroke-linecap:butt;stroke-linejoin:miter;stroke-opacity:1\"/>\n<path class=\"bond-10\" d=\"M 209.356,180.206 L 187.532,160.387\" style=\"fill:none;fill-rule:evenodd;stroke:#000000;stroke-width:2.0px;stroke-linecap:butt;stroke-linejoin:miter;stroke-opacity:1\"/>\n<path class=\"bond-10\" d=\"M 187.532,160.387 L 165.709,140.567\" style=\"fill:none;fill-rule:evenodd;stroke:#7F4C19;stroke-width:2.0px;stroke-linecap:butt;stroke-linejoin:miter;stroke-opacity:1\"/>\n<path class=\"bond-11\" d=\"M 209.356,180.206 L 270.913,205.383\" style=\"fill:none;fill-rule:evenodd;stroke:#000000;stroke-width:2.0px;stroke-linecap:butt;stroke-linejoin:miter;stroke-opacity:1\"/>\n<path class=\"bond-30\" d=\"M 209.356,180.206 L 241.225,137.165 L 234.475,132.907 Z\" style=\"fill:#000000;fill-rule:evenodd;fill-opacity:1;stroke:#000000;stroke-width:2px;stroke-linecap:butt;stroke-linejoin:miter;stroke-opacity:1;\"/>\n<path class=\"bond-31\" d=\"M 270.913,205.383 L 275.974,150.235\" style=\"fill:none;fill-rule:evenodd;stroke:#000000;stroke-width:2.0px;stroke-linecap:butt;stroke-linejoin:miter;stroke-opacity:1\"/>\n<path class=\"bond-32\" d=\"M 270.913,205.383 L 326.992,193.71\" style=\"fill:none;fill-rule:evenodd;stroke:#000000;stroke-width:2.0px;stroke-linecap:butt;stroke-linejoin:miter;stroke-opacity:1\"/>\n<path class=\"atom-9\" d=\"M 120.202 152.656 L 131.402 152.656 L 131.402 154.81 L 122.729 154.81 L 122.729 160.53 L 130.444 160.53 L 130.444 162.711 L 122.729 162.711 L 122.729 171.49 L 120.202 171.49 L 120.202 152.656 \" fill=\"#33CCCC\"/>\n<path class=\"atom-11\" d=\"M 150.293 135.015 Q 152.102 135.52, 153.006 136.638 Q 153.937 137.728, 153.937 139.351 Q 153.937 141.958, 152.261 143.448 Q 150.612 144.911, 147.473 144.911 L 141.141 144.911 L 141.141 126.077 L 146.701 126.077 Q 149.92 126.077, 151.543 127.38 Q 153.166 128.684, 153.166 131.078 Q 153.166 133.924, 150.293 135.015 M 143.669 128.205 L 143.669 134.111 L 146.701 134.111 Q 148.564 134.111, 149.521 133.366 Q 150.506 132.594, 150.506 131.078 Q 150.506 128.205, 146.701 128.205 L 143.669 128.205 M 147.473 142.783 Q 149.308 142.783, 150.293 141.905 Q 151.277 141.027, 151.277 139.351 Q 151.277 137.808, 150.186 137.037 Q 149.122 136.239, 147.074 136.239 L 143.669 136.239 L 143.669 142.783 L 147.473 142.783 \" fill=\"#7F4C19\"/>\n<path class=\"atom-11\" d=\"M 158.22 131.237 L 158.513 133.126 Q 159.95 130.998, 162.291 130.998 Q 163.035 130.998, 164.046 131.264 L 163.647 133.499 Q 162.503 133.233, 161.865 133.233 Q 160.748 133.233, 160.003 133.685 Q 159.284 134.111, 158.699 135.148 L 158.699 144.911 L 156.199 144.911 L 156.199 131.237 L 158.22 131.237 \" fill=\"#7F4C19\"/>\n<path class=\"atom-13\" d=\"M 303.167 112.905 L 305.72 112.905 L 305.72 120.913 L 315.351 120.913 L 315.351 112.905 L 317.904 112.905 L 317.904 131.74 L 315.351 131.74 L 315.351 123.041 L 305.72 123.041 L 305.72 131.74 L 303.167 131.74 L 303.167 112.905 \" fill=\"#000000\"/>\n<path class=\"atom-14\" d=\"M 375.97 150.393 L 378.524 150.393 L 378.524 158.4 L 388.154 158.4 L 388.154 150.393 L 390.708 150.393 L 390.708 169.228 L 388.154 169.228 L 388.154 160.529 L 378.524 160.529 L 378.524 169.228 L 375.97 169.228 L 375.97 150.393 \" fill=\"#000000\"/>\n<path class=\"atom-15\" d=\"M 280.307 180.557 L 282.861 180.557 L 282.861 188.564 L 292.491 188.564 L 292.491 180.557 L 295.045 180.557 L 295.045 199.392 L 292.491 199.392 L 292.491 190.692 L 282.861 190.692 L 282.861 199.392 L 280.307 199.392 L 280.307 180.557 \" fill=\"#000000\"/>\n<path class=\"atom-16\" d=\"M 376.42 368.26 L 378.974 368.26 L 378.974 376.268 L 388.604 376.268 L 388.604 368.26 L 391.158 368.26 L 391.158 387.095 L 388.604 387.095 L 388.604 378.396 L 378.974 378.396 L 378.974 387.095 L 376.42 387.095 L 376.42 368.26 \" fill=\"#000000\"/>\n<path class=\"atom-17\" d=\"M 421.477 292.512 L 424.031 292.512 L 424.031 300.519 L 433.661 300.519 L 433.661 292.512 L 436.215 292.512 L 436.215 311.347 L 433.661 311.347 L 433.661 302.648 L 424.031 302.648 L 424.031 311.347 L 421.477 311.347 L 421.477 292.512 \" fill=\"#000000\"/>\n<path class=\"atom-18\" d=\"M 299.59 339.926 L 302.144 339.926 L 302.144 347.934 L 311.774 347.934 L 311.774 339.926 L 314.328 339.926 L 314.328 358.761 L 311.774 358.761 L 311.774 350.062 L 302.144 350.062 L 302.144 358.761 L 299.59 358.761 L 299.59 339.926 \" fill=\"#000000\"/>\n<path class=\"atom-19\" d=\"M 462.535 201.02 L 465.089 201.02 L 465.089 209.027 L 474.719 209.027 L 474.719 201.02 L 477.273 201.02 L 477.273 219.854 L 474.719 219.854 L 474.719 211.155 L 465.089 211.155 L 465.089 219.854 L 462.535 219.854 L 462.535 201.02 \" fill=\"#000000\"/>\n<path class=\"atom-20\" d=\"M 386.787 155.963 L 389.341 155.963 L 389.341 163.97 L 398.971 163.97 L 398.971 155.963 L 401.525 155.963 L 401.525 174.797 L 398.971 174.797 L 398.971 166.098 L 389.341 166.098 L 389.341 174.797 L 386.787 174.797 L 386.787 155.963 \" fill=\"#000000\"/>\n<path class=\"atom-21\" d=\"M 427.047 281.695 L 429.601 281.695 L 429.601 289.703 L 439.231 289.703 L 439.231 281.695 L 441.785 281.695 L 441.785 300.53 L 439.231 300.53 L 439.231 291.831 L 429.601 291.831 L 429.601 300.53 L 427.047 300.53 L 427.047 281.695 \" fill=\"#000000\"/>\n<path class=\"atom-22\" d=\"M 296.085 324.055 L 298.639 324.055 L 298.639 332.063 L 308.269 332.063 L 308.269 324.055 L 310.823 324.055 L 310.823 342.89 L 308.269 342.89 L 308.269 334.191 L 298.639 334.191 L 298.639 342.89 L 296.085 342.89 L 296.085 324.055 \" fill=\"#000000\"/>\n<path class=\"atom-23\" d=\"M 263.353 352.966 L 265.906 352.966 L 265.906 360.973 L 275.537 360.973 L 275.537 352.966 L 278.09 352.966 L 278.09 371.8 L 275.537 371.8 L 275.537 363.101 L 265.906 363.101 L 265.906 371.8 L 263.353 371.8 L 263.353 352.966 \" fill=\"#000000\"/>\n<path class=\"atom-24\" d=\"M 184.453 358.835 L 187.007 358.835 L 187.007 366.843 L 196.637 366.843 L 196.637 358.835 L 199.191 358.835 L 199.191 377.67 L 196.637 377.67 L 196.637 368.971 L 187.007 368.971 L 187.007 377.67 L 184.453 377.67 L 184.453 358.835 \" fill=\"#000000\"/>\n<path class=\"atom-25\" d=\"M 144.274 342.402 L 146.828 342.402 L 146.828 350.41 L 156.458 350.41 L 156.458 342.402 L 159.012 342.402 L 159.012 361.237 L 156.458 361.237 L 156.458 352.538 L 146.828 352.538 L 146.828 361.237 L 144.274 361.237 L 144.274 342.402 \" fill=\"#000000\"/>\n<path class=\"atom-26\" d=\"M 92.1018 282.924 L 94.6557 282.924 L 94.6557 290.931 L 104.286 290.931 L 104.286 282.924 L 106.84 282.924 L 106.84 301.758 L 104.286 301.758 L 104.286 293.059 L 94.6557 293.059 L 94.6557 301.758 L 92.1018 301.758 L 92.1018 282.924 \" fill=\"#000000\"/>\n<path class=\"atom-27\" d=\"M 22.7273 252.073 L 25.2811 252.073 L 25.2811 260.08 L 34.9113 260.08 L 34.9113 252.073 L 37.4651 252.073 L 37.4651 270.908 L 34.9113 270.908 L 34.9113 262.209 L 25.2811 262.209 L 25.2811 270.908 L 22.7273 270.908 L 22.7273 252.073 \" fill=\"#000000\"/>\n<path class=\"atom-28\" d=\"M 65.7846 168.453 L 68.3385 168.453 L 68.3385 176.46 L 77.9686 176.46 L 77.9686 168.453 L 80.5225 168.453 L 80.5225 187.288 L 77.9686 187.288 L 77.9686 178.588 L 68.3385 178.588 L 68.3385 187.288 L 65.7846 187.288 L 65.7846 168.453 \" fill=\"#000000\"/>\n<path class=\"atom-29\" d=\"M 98.4754 297.13 L 101.029 297.13 L 101.029 305.138 L 110.659 305.138 L 110.659 297.13 L 113.213 297.13 L 113.213 315.965 L 110.659 315.965 L 110.659 307.266 L 101.029 307.266 L 101.029 315.965 L 98.4754 315.965 L 98.4754 297.13 \" fill=\"#000000\"/>\n<path class=\"atom-30\" d=\"M 237.471 114.539 L 240.025 114.539 L 240.025 122.546 L 249.655 122.546 L 249.655 114.539 L 252.209 114.539 L 252.209 133.374 L 249.655 133.374 L 249.655 124.675 L 240.025 124.675 L 240.025 133.374 L 237.471 133.374 L 237.471 114.539 \" fill=\"#000000\"/>\n<path class=\"atom-31\" d=\"M 269.622 129.737 L 272.175 129.737 L 272.175 137.745 L 281.806 137.745 L 281.806 129.737 L 284.359 129.737 L 284.359 148.572 L 281.806 148.572 L 281.806 139.873 L 272.175 139.873 L 272.175 148.572 L 269.622 148.572 L 269.622 129.737 \" fill=\"#000000\"/>\n<path class=\"atom-32\" d=\"M 328.655 182.413 L 331.209 182.413 L 331.209 190.42 L 340.839 190.42 L 340.839 182.413 L 343.393 182.413 L 343.393 201.247 L 340.839 201.247 L 340.839 192.548 L 331.209 192.548 L 331.209 201.247 L 328.655 201.247 L 328.655 182.413 \" fill=\"#000000\"/>\n</svg>",
          "text/plain": "<IPython.core.display.SVG object>"
         },
         "metadata": {},
         "output_type": "display_data"
        },
        {
         "name": "stdout",
         "output_type": "stream",
         "text": "Species SMILES: CC(C)(C)[C@@H]1CC[C@@](C)(F)[C@H](Br)C1\nFragment identifier: CBr\nFragment count: 1\n"
        }
       ]
      }
     },
     "dc5f04d19c534325b064ebc9488d740d": {
      "model_module": "@jupyter-widgets/base",
      "model_module_version": "1.2.0",
      "model_name": "LayoutModel",
      "state": {}
     },
     "dd05f5c187b4465785ed5d797d72e224": {
      "model_module": "@jupyter-widgets/base",
      "model_module_version": "1.2.0",
      "model_name": "LayoutModel",
      "state": {}
     },
     "f7f224390d644fbab0413bb667344e2f": {
      "model_module": "@jupyter-widgets/controls",
      "model_module_version": "1.5.0",
      "model_name": "DropdownModel",
      "state": {
       "_options_labels": [
        "smiles",
        "smarts"
       ],
       "description": "Result Format",
       "index": 0,
       "layout": "IPY_MODEL_dc5f04d19c534325b064ebc9488d740d",
       "style": "IPY_MODEL_544cb35fc29f4133b855de9c72468278"
      }
     },
     "ff85b3b0681d4ffd804fa5663ad34165": {
      "model_module": "@jupyter-widgets/controls",
      "model_module_version": "1.5.0",
      "model_name": "SelectionSliderModel",
      "state": {
       "_options_labels": [
        "",
        "6890270",
        "27615522",
        "29164535",
        "11230426",
        "9019791",
        "4584084"
       ],
       "continuous_update": false,
       "description": "Species ID",
       "index": 1,
       "layout": "IPY_MODEL_7302cd51d31f47f3b66909172ded3f39",
       "style": "IPY_MODEL_12577575957340ea937e0d816e747e30"
      }
     }
    },
    "version_major": 2,
    "version_minor": 0
   }
  }
 },
 "nbformat": 4,
 "nbformat_minor": 5
}
