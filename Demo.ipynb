{
 "cells": [
  {
   "cell_type": "code",
   "execution_count": 2,
   "id": "15a487fe",
   "metadata": {
    "ExecuteTime": {
     "end_time": "2022-09-09T15:33:15.969919Z",
     "start_time": "2022-09-09T15:33:15.964993Z"
    }
   },
   "outputs": [],
   "source": [
    "from MainFunctions import drawReaction\n",
    "from rdkit.Chem import rdChemReactions"
   ]
  },
  {
   "cell_type": "code",
   "execution_count": 3,
   "id": "270036f6",
   "metadata": {
    "ExecuteTime": {
     "end_time": "2022-09-09T15:33:18.303726Z",
     "start_time": "2022-09-09T15:33:18.238902Z"
    }
   },
   "outputs": [
    {
     "data": {
      "image/svg+xml": [
       "<svg xmlns=\"http://www.w3.org/2000/svg\" xmlns:rdkit=\"http://www.rdkit.org/xml\" xmlns:xlink=\"http://www.w3.org/1999/xlink\" version=\"1.1\" baseProfile=\"full\" xml:space=\"preserve\" width=\"1000px\" height=\"300px\" viewBox=\"0 0 1000 300\">\n",
       "<!-- END OF HEADER -->\n",
       "<rect style=\"opacity:1.0;fill:#FFFFFF;stroke:none\" width=\"1000\" height=\"300\" x=\"0\" y=\"0\"> </rect>\n",
       "<path class=\"bond-0\" d=\"M 210.432,151.867 L 193.55,151.867\" style=\"fill:none;fill-rule:evenodd;stroke:#0000FF;stroke-width:2.0px;stroke-linecap:butt;stroke-linejoin:miter;stroke-opacity:1\"/>\n",
       "<path class=\"bond-0\" d=\"M 193.55,151.867 L 176.668,151.867\" style=\"fill:none;fill-rule:evenodd;stroke:#000000;stroke-width:2.0px;stroke-linecap:butt;stroke-linejoin:miter;stroke-opacity:1\"/>\n",
       "<path class=\"bond-1\" d=\"M 176.668,151.867 L 157.209,185.57\" style=\"fill:none;fill-rule:evenodd;stroke:#000000;stroke-width:2.0px;stroke-linecap:butt;stroke-linejoin:miter;stroke-opacity:1\"/>\n",
       "<path class=\"bond-1\" d=\"M 167.008,153.03 L 153.387,176.623\" style=\"fill:none;fill-rule:evenodd;stroke:#000000;stroke-width:2.0px;stroke-linecap:butt;stroke-linejoin:miter;stroke-opacity:1;stroke-dasharray:6,6\"/>\n",
       "<path class=\"bond-7\" d=\"M 176.668,151.867 L 157.209,118.163\" style=\"fill:none;fill-rule:evenodd;stroke:#000000;stroke-width:2.0px;stroke-linecap:butt;stroke-linejoin:miter;stroke-opacity:1\"/>\n",
       "<path class=\"bond-7\" d=\"M 167.008,150.703 L 153.387,127.11\" style=\"fill:none;fill-rule:evenodd;stroke:#000000;stroke-width:2.0px;stroke-linecap:butt;stroke-linejoin:miter;stroke-opacity:1;stroke-dasharray:6,6\"/>\n",
       "<path class=\"bond-2\" d=\"M 157.209,185.57 L 118.292,185.57\" style=\"fill:none;fill-rule:evenodd;stroke:#000000;stroke-width:2.0px;stroke-linecap:butt;stroke-linejoin:miter;stroke-opacity:1\"/>\n",
       "<path class=\"bond-2\" d=\"M 151.372,177.786 L 124.13,177.786\" style=\"fill:none;fill-rule:evenodd;stroke:#000000;stroke-width:2.0px;stroke-linecap:butt;stroke-linejoin:miter;stroke-opacity:1;stroke-dasharray:6,6\"/>\n",
       "<path class=\"bond-3\" d=\"M 118.292,185.57 L 98.8334,151.867\" style=\"fill:none;fill-rule:evenodd;stroke:#000000;stroke-width:2.0px;stroke-linecap:butt;stroke-linejoin:miter;stroke-opacity:1\"/>\n",
       "<path class=\"bond-3\" d=\"M 122.114,176.623 L 108.493,153.03\" style=\"fill:none;fill-rule:evenodd;stroke:#000000;stroke-width:2.0px;stroke-linecap:butt;stroke-linejoin:miter;stroke-opacity:1;stroke-dasharray:6,6\"/>\n",
       "<path class=\"bond-4\" d=\"M 98.8334,151.867 L 82.3909,151.867\" style=\"fill:none;fill-rule:evenodd;stroke:#000000;stroke-width:2.0px;stroke-linecap:butt;stroke-linejoin:miter;stroke-opacity:1\"/>\n",
       "<path class=\"bond-4\" d=\"M 82.3909,151.867 L 65.9483,151.867\" style=\"fill:none;fill-rule:evenodd;stroke:#FF0000;stroke-width:2.0px;stroke-linecap:butt;stroke-linejoin:miter;stroke-opacity:1\"/>\n",
       "<path class=\"bond-5\" d=\"M 98.8334,151.867 L 118.292,118.163\" style=\"fill:none;fill-rule:evenodd;stroke:#000000;stroke-width:2.0px;stroke-linecap:butt;stroke-linejoin:miter;stroke-opacity:1\"/>\n",
       "<path class=\"bond-5\" d=\"M 108.493,150.703 L 122.114,127.11\" style=\"fill:none;fill-rule:evenodd;stroke:#000000;stroke-width:2.0px;stroke-linecap:butt;stroke-linejoin:miter;stroke-opacity:1;stroke-dasharray:6,6\"/>\n",
       "<path class=\"bond-6\" d=\"M 118.292,118.163 L 157.209,118.163\" style=\"fill:none;fill-rule:evenodd;stroke:#000000;stroke-width:2.0px;stroke-linecap:butt;stroke-linejoin:miter;stroke-opacity:1\"/>\n",
       "<path class=\"bond-6\" d=\"M 124.13,125.947 L 151.372,125.947\" style=\"fill:none;fill-rule:evenodd;stroke:#000000;stroke-width:2.0px;stroke-linecap:butt;stroke-linejoin:miter;stroke-opacity:1;stroke-dasharray:6,6\"/>\n",
       "<path class=\"bond-8\" d=\"M 291.196,129.628 L 324.899,149.087\" style=\"fill:none;fill-rule:evenodd;stroke:#000000;stroke-width:2.0px;stroke-linecap:butt;stroke-linejoin:miter;stroke-opacity:1\"/>\n",
       "<path class=\"bond-9\" d=\"M 321.007,149.087 L 321.007,165.272\" style=\"fill:none;fill-rule:evenodd;stroke:#000000;stroke-width:2.0px;stroke-linecap:butt;stroke-linejoin:miter;stroke-opacity:1\"/>\n",
       "<path class=\"bond-9\" d=\"M 321.007,165.272 L 321.007,181.458\" style=\"fill:none;fill-rule:evenodd;stroke:#FF0000;stroke-width:2.0px;stroke-linecap:butt;stroke-linejoin:miter;stroke-opacity:1\"/>\n",
       "<path class=\"bond-9\" d=\"M 328.791,149.087 L 328.791,165.272\" style=\"fill:none;fill-rule:evenodd;stroke:#000000;stroke-width:2.0px;stroke-linecap:butt;stroke-linejoin:miter;stroke-opacity:1\"/>\n",
       "<path class=\"bond-9\" d=\"M 328.791,165.272 L 328.791,181.458\" style=\"fill:none;fill-rule:evenodd;stroke:#FF0000;stroke-width:2.0px;stroke-linecap:butt;stroke-linejoin:miter;stroke-opacity:1\"/>\n",
       "<path class=\"bond-10\" d=\"M 324.899,149.087 L 338.735,141.099\" style=\"fill:none;fill-rule:evenodd;stroke:#000000;stroke-width:2.0px;stroke-linecap:butt;stroke-linejoin:miter;stroke-opacity:1\"/>\n",
       "<path class=\"bond-10\" d=\"M 338.735,141.099 L 352.57,133.111\" style=\"fill:none;fill-rule:evenodd;stroke:#FF0000;stroke-width:2.0px;stroke-linecap:butt;stroke-linejoin:miter;stroke-opacity:1\"/>\n",
       "<path class=\"bond-11\" d=\"M 364.634,133.111 L 378.47,141.099\" style=\"fill:none;fill-rule:evenodd;stroke:#FF0000;stroke-width:2.0px;stroke-linecap:butt;stroke-linejoin:miter;stroke-opacity:1\"/>\n",
       "<path class=\"bond-11\" d=\"M 378.47,141.099 L 392.306,149.087\" style=\"fill:none;fill-rule:evenodd;stroke:#000000;stroke-width:2.0px;stroke-linecap:butt;stroke-linejoin:miter;stroke-opacity:1\"/>\n",
       "<path class=\"bond-12\" d=\"M 392.306,149.087 L 426.009,129.628\" style=\"fill:none;fill-rule:evenodd;stroke:#000000;stroke-width:2.0px;stroke-linecap:butt;stroke-linejoin:miter;stroke-opacity:1\"/>\n",
       "<path class=\"bond-13\" d=\"M 388.414,149.087 L 388.414,165.272\" style=\"fill:none;fill-rule:evenodd;stroke:#000000;stroke-width:2.0px;stroke-linecap:butt;stroke-linejoin:miter;stroke-opacity:1\"/>\n",
       "<path class=\"bond-13\" d=\"M 388.414,165.272 L 388.414,181.458\" style=\"fill:none;fill-rule:evenodd;stroke:#FF0000;stroke-width:2.0px;stroke-linecap:butt;stroke-linejoin:miter;stroke-opacity:1\"/>\n",
       "<path class=\"bond-13\" d=\"M 396.197,149.087 L 396.197,165.272\" style=\"fill:none;fill-rule:evenodd;stroke:#000000;stroke-width:2.0px;stroke-linecap:butt;stroke-linejoin:miter;stroke-opacity:1\"/>\n",
       "<path class=\"bond-13\" d=\"M 396.197,165.272 L 396.197,181.458\" style=\"fill:none;fill-rule:evenodd;stroke:#FF0000;stroke-width:2.0px;stroke-linecap:butt;stroke-linejoin:miter;stroke-opacity:1\"/>\n",
       "<path class=\"bond-14\" d=\"M 594.65,159.078 L 632.241,149.006\" style=\"fill:none;fill-rule:evenodd;stroke:#000000;stroke-width:2.0px;stroke-linecap:butt;stroke-linejoin:miter;stroke-opacity:1\"/>\n",
       "<path class=\"bond-15\" d=\"M 636,150.013 L 640.137,134.576\" style=\"fill:none;fill-rule:evenodd;stroke:#000000;stroke-width:2.0px;stroke-linecap:butt;stroke-linejoin:miter;stroke-opacity:1\"/>\n",
       "<path class=\"bond-15\" d=\"M 640.137,134.576 L 644.273,119.139\" style=\"fill:none;fill-rule:evenodd;stroke:#FF0000;stroke-width:2.0px;stroke-linecap:butt;stroke-linejoin:miter;stroke-opacity:1\"/>\n",
       "<path class=\"bond-15\" d=\"M 628.482,147.998 L 632.618,132.561\" style=\"fill:none;fill-rule:evenodd;stroke:#000000;stroke-width:2.0px;stroke-linecap:butt;stroke-linejoin:miter;stroke-opacity:1\"/>\n",
       "<path class=\"bond-15\" d=\"M 632.618,132.561 L 636.755,117.124\" style=\"fill:none;fill-rule:evenodd;stroke:#FF0000;stroke-width:2.0px;stroke-linecap:butt;stroke-linejoin:miter;stroke-opacity:1\"/>\n",
       "<path class=\"bond-16\" d=\"M 632.241,149.006 L 643.424,160.189\" style=\"fill:none;fill-rule:evenodd;stroke:#000000;stroke-width:2.0px;stroke-linecap:butt;stroke-linejoin:miter;stroke-opacity:1\"/>\n",
       "<path class=\"bond-16\" d=\"M 643.424,160.189 L 654.607,171.372\" style=\"fill:none;fill-rule:evenodd;stroke:#0000FF;stroke-width:2.0px;stroke-linecap:butt;stroke-linejoin:miter;stroke-opacity:1\"/>\n",
       "<path class=\"bond-17\" d=\"M 664.912,175.144 L 681.132,170.798\" style=\"fill:none;fill-rule:evenodd;stroke:#0000FF;stroke-width:2.0px;stroke-linecap:butt;stroke-linejoin:miter;stroke-opacity:1\"/>\n",
       "<path class=\"bond-17\" d=\"M 681.132,170.798 L 697.351,166.452\" style=\"fill:none;fill-rule:evenodd;stroke:#000000;stroke-width:2.0px;stroke-linecap:butt;stroke-linejoin:miter;stroke-opacity:1\"/>\n",
       "<path class=\"bond-18\" d=\"M 697.351,166.452 L 707.423,128.861\" style=\"fill:none;fill-rule:evenodd;stroke:#000000;stroke-width:2.0px;stroke-linecap:butt;stroke-linejoin:miter;stroke-opacity:1\"/>\n",
       "<path class=\"bond-18\" d=\"M 706.38,162.828 L 713.431,136.514\" style=\"fill:none;fill-rule:evenodd;stroke:#000000;stroke-width:2.0px;stroke-linecap:butt;stroke-linejoin:miter;stroke-opacity:1;stroke-dasharray:6,6\"/>\n",
       "<path class=\"bond-24\" d=\"M 697.351,166.452 L 724.87,193.97\" style=\"fill:none;fill-rule:evenodd;stroke:#000000;stroke-width:2.0px;stroke-linecap:butt;stroke-linejoin:miter;stroke-opacity:1\"/>\n",
       "<path class=\"bond-24\" d=\"M 706.982,165.076 L 726.245,184.339\" style=\"fill:none;fill-rule:evenodd;stroke:#000000;stroke-width:2.0px;stroke-linecap:butt;stroke-linejoin:miter;stroke-opacity:1;stroke-dasharray:6,6\"/>\n",
       "<path class=\"bond-19\" d=\"M 707.423,128.861 L 745.015,118.788\" style=\"fill:none;fill-rule:evenodd;stroke:#000000;stroke-width:2.0px;stroke-linecap:butt;stroke-linejoin:miter;stroke-opacity:1\"/>\n",
       "<path class=\"bond-19\" d=\"M 715.077,134.868 L 741.39,127.817\" style=\"fill:none;fill-rule:evenodd;stroke:#000000;stroke-width:2.0px;stroke-linecap:butt;stroke-linejoin:miter;stroke-opacity:1;stroke-dasharray:6,6\"/>\n",
       "<path class=\"bond-20\" d=\"M 745.015,118.788 L 772.533,146.307\" style=\"fill:none;fill-rule:evenodd;stroke:#000000;stroke-width:2.0px;stroke-linecap:butt;stroke-linejoin:miter;stroke-opacity:1\"/>\n",
       "<path class=\"bond-20\" d=\"M 743.639,128.42 L 762.902,147.683\" style=\"fill:none;fill-rule:evenodd;stroke:#000000;stroke-width:2.0px;stroke-linecap:butt;stroke-linejoin:miter;stroke-opacity:1;stroke-dasharray:6,6\"/>\n",
       "<path class=\"bond-21\" d=\"M 772.533,146.307 L 788.313,142.079\" style=\"fill:none;fill-rule:evenodd;stroke:#000000;stroke-width:2.0px;stroke-linecap:butt;stroke-linejoin:miter;stroke-opacity:1\"/>\n",
       "<path class=\"bond-21\" d=\"M 788.313,142.079 L 804.092,137.851\" style=\"fill:none;fill-rule:evenodd;stroke:#FF0000;stroke-width:2.0px;stroke-linecap:butt;stroke-linejoin:miter;stroke-opacity:1\"/>\n",
       "<path class=\"bond-22\" d=\"M 772.533,146.307 L 762.461,183.898\" style=\"fill:none;fill-rule:evenodd;stroke:#000000;stroke-width:2.0px;stroke-linecap:butt;stroke-linejoin:miter;stroke-opacity:1\"/>\n",
       "<path class=\"bond-22\" d=\"M 763.504,149.931 L 756.453,176.245\" style=\"fill:none;fill-rule:evenodd;stroke:#000000;stroke-width:2.0px;stroke-linecap:butt;stroke-linejoin:miter;stroke-opacity:1;stroke-dasharray:6,6\"/>\n",
       "<path class=\"bond-23\" d=\"M 762.461,183.898 L 724.87,193.97\" style=\"fill:none;fill-rule:evenodd;stroke:#000000;stroke-width:2.0px;stroke-linecap:butt;stroke-linejoin:miter;stroke-opacity:1\"/>\n",
       "<path class=\"bond-23\" d=\"M 754.808,177.891 L 728.494,184.941\" style=\"fill:none;fill-rule:evenodd;stroke:#000000;stroke-width:2.0px;stroke-linecap:butt;stroke-linejoin:miter;stroke-opacity:1;stroke-dasharray:6,6\"/>\n",
       "<path class=\"bond-25\" d=\"M 882.08,171.325 L 915.783,151.867\" style=\"fill:none;fill-rule:evenodd;stroke:#000000;stroke-width:2.0px;stroke-linecap:butt;stroke-linejoin:miter;stroke-opacity:1\"/>\n",
       "<path class=\"bond-26\" d=\"M 913.837,155.237 L 927.673,163.225\" style=\"fill:none;fill-rule:evenodd;stroke:#000000;stroke-width:2.0px;stroke-linecap:butt;stroke-linejoin:miter;stroke-opacity:1\"/>\n",
       "<path class=\"bond-26\" d=\"M 927.673,163.225 L 941.508,171.213\" style=\"fill:none;fill-rule:evenodd;stroke:#FF0000;stroke-width:2.0px;stroke-linecap:butt;stroke-linejoin:miter;stroke-opacity:1\"/>\n",
       "<path class=\"bond-26\" d=\"M 917.729,148.496 L 931.564,156.484\" style=\"fill:none;fill-rule:evenodd;stroke:#000000;stroke-width:2.0px;stroke-linecap:butt;stroke-linejoin:miter;stroke-opacity:1\"/>\n",
       "<path class=\"bond-26\" d=\"M 931.564,156.484 L 945.4,164.472\" style=\"fill:none;fill-rule:evenodd;stroke:#FF0000;stroke-width:2.0px;stroke-linecap:butt;stroke-linejoin:miter;stroke-opacity:1\"/>\n",
       "<path class=\"bond-27\" d=\"M 915.783,151.867 L 915.783,135.767\" style=\"fill:none;fill-rule:evenodd;stroke:#000000;stroke-width:2.0px;stroke-linecap:butt;stroke-linejoin:miter;stroke-opacity:1\"/>\n",
       "<path class=\"bond-27\" d=\"M 915.783,135.767 L 915.783,119.666\" style=\"fill:none;fill-rule:evenodd;stroke:#FF0000;stroke-width:2.0px;stroke-linecap:butt;stroke-linejoin:miter;stroke-opacity:1\"/>\n",
       "<path class=\"atom-0\" d=\"M 213.149 146.356 L 216.76 152.193 Q 217.118 152.769, 217.694 153.812 Q 218.27 154.855, 218.301 154.918 L 218.301 146.356 L 219.765 146.356 L 219.765 157.377 L 218.255 157.377 L 214.379 150.995 Q 213.927 150.248, 213.445 149.391 Q 212.978 148.535, 212.837 148.271 L 212.837 157.377 L 211.405 157.377 L 211.405 146.356 L 213.149 146.356 \" fill=\"#0000FF\"/>\n",
       "<path class=\"atom-0\" d=\"M 221.088 146.356 L 222.582 146.356 L 222.582 151.042 L 228.218 151.042 L 228.218 146.356 L 229.712 146.356 L 229.712 157.377 L 228.218 157.377 L 228.218 152.287 L 222.582 152.287 L 222.582 157.377 L 221.088 157.377 L 221.088 146.356 \" fill=\"#0000FF\"/>\n",
       "<path class=\"atom-0\" d=\"M 230.246 156.991 Q 230.513 156.302, 231.15 155.922 Q 231.787 155.532, 232.671 155.532 Q 233.77 155.532, 234.387 156.128 Q 235.003 156.723, 235.003 157.782 Q 235.003 158.86, 234.202 159.867 Q 233.411 160.874, 231.767 162.066 L 235.126 162.066 L 235.126 162.888 L 230.226 162.888 L 230.226 162.2 Q 231.582 161.234, 232.383 160.515 Q 233.195 159.795, 233.585 159.148 Q 233.976 158.501, 233.976 157.833 Q 233.976 157.134, 233.626 156.744 Q 233.277 156.354, 232.671 156.354 Q 232.085 156.354, 231.695 156.59 Q 231.304 156.826, 231.027 157.35 L 230.246 156.991 \" fill=\"#0000FF\"/>\n",
       "<path class=\"atom-5\" d=\"M 45.4545 146.418 L 46.949 146.418 L 46.949 151.104 L 52.5842 151.104 L 52.5842 146.418 L 54.0786 146.418 L 54.0786 157.44 L 52.5842 157.44 L 52.5842 152.349 L 46.949 152.349 L 46.949 157.44 L 45.4545 157.44 L 45.4545 146.418 \" fill=\"#FF0000\"/>\n",
       "<path class=\"atom-5\" d=\"M 54.8569 151.898 Q 54.8569 149.251, 56.1646 147.772 Q 57.4722 146.294, 59.9162 146.294 Q 62.3602 146.294, 63.6678 147.772 Q 64.9754 149.251, 64.9754 151.898 Q 64.9754 154.575, 63.6522 156.101 Q 62.329 157.611, 59.9162 157.611 Q 57.4877 157.611, 56.1646 156.101 Q 54.8569 154.591, 54.8569 151.898 M 59.9162 156.365 Q 61.5974 156.365, 62.5003 155.245 Q 63.4187 154.108, 63.4187 151.898 Q 63.4187 149.734, 62.5003 148.644 Q 61.5974 147.539, 59.9162 147.539 Q 58.235 147.539, 57.3165 148.629 Q 56.4136 149.718, 56.4136 151.898 Q 56.4136 154.124, 57.3165 155.245 Q 58.235 156.365, 59.9162 156.365 \" fill=\"#FF0000\"/>\n",
       "<path class=\"atom-10\" d=\"M 319.84 188.035 Q 319.84 185.389, 321.147 183.91 Q 322.455 182.431, 324.899 182.431 Q 327.343 182.431, 328.651 183.91 Q 329.958 185.389, 329.958 188.035 Q 329.958 190.713, 328.635 192.238 Q 327.312 193.748, 324.899 193.748 Q 322.471 193.748, 321.147 192.238 Q 319.84 190.728, 319.84 188.035 M 324.899 192.503 Q 326.58 192.503, 327.483 191.382 Q 328.402 190.246, 328.402 188.035 Q 328.402 185.871, 327.483 184.782 Q 326.58 183.676, 324.899 183.676 Q 323.218 183.676, 322.299 184.766 Q 321.396 185.856, 321.396 188.035 Q 321.396 190.261, 322.299 191.382 Q 323.218 192.503, 324.899 192.503 \" fill=\"#FF0000\"/>\n",
       "<path class=\"atom-11\" d=\"M 353.543 129.659 Q 353.543 127.013, 354.851 125.534 Q 356.158 124.055, 358.602 124.055 Q 361.046 124.055, 362.354 125.534 Q 363.662 127.013, 363.662 129.659 Q 363.662 132.337, 362.338 133.862 Q 361.015 135.372, 358.602 135.372 Q 356.174 135.372, 354.851 133.862 Q 353.543 132.352, 353.543 129.659 M 358.602 134.127 Q 360.284 134.127, 361.186 133.006 Q 362.105 131.87, 362.105 129.659 Q 362.105 127.496, 361.186 126.406 Q 360.284 125.301, 358.602 125.301 Q 356.921 125.301, 356.003 126.39 Q 355.1 127.48, 355.1 129.659 Q 355.1 131.885, 356.003 133.006 Q 356.921 134.127, 358.602 134.127 \" fill=\"#FF0000\"/>\n",
       "<path class=\"atom-14\" d=\"M 387.246 188.035 Q 387.246 185.389, 388.554 183.91 Q 389.862 182.431, 392.306 182.431 Q 394.75 182.431, 396.057 183.91 Q 397.365 185.389, 397.365 188.035 Q 397.365 190.713, 396.042 192.238 Q 394.718 193.748, 392.306 193.748 Q 389.877 193.748, 388.554 192.238 Q 387.246 190.728, 387.246 188.035 M 392.306 192.503 Q 393.987 192.503, 394.89 191.382 Q 395.808 190.246, 395.808 188.035 Q 395.808 185.871, 394.89 184.782 Q 393.987 183.676, 392.306 183.676 Q 390.624 183.676, 389.706 184.766 Q 388.803 185.856, 388.803 188.035 Q 388.803 190.261, 389.706 191.382 Q 390.624 192.503, 392.306 192.503 \" fill=\"#FF0000\"/>\n",
       "<path class=\"atom-17\" d=\"M 637.254 111.446 Q 637.254 108.799, 638.562 107.32 Q 639.87 105.842, 642.314 105.842 Q 644.758 105.842, 646.065 107.32 Q 647.373 108.799, 647.373 111.446 Q 647.373 114.123, 646.05 115.649 Q 644.727 117.159, 642.314 117.159 Q 639.885 117.159, 638.562 115.649 Q 637.254 114.139, 637.254 111.446 M 642.314 115.913 Q 643.995 115.913, 644.898 114.793 Q 645.816 113.656, 645.816 111.446 Q 645.816 109.282, 644.898 108.192 Q 643.995 107.087, 642.314 107.087 Q 640.632 107.087, 639.714 108.177 Q 638.811 109.266, 638.811 111.446 Q 638.811 113.672, 639.714 114.793 Q 640.632 115.913, 642.314 115.913 \" fill=\"#FF0000\"/>\n",
       "<path class=\"atom-18\" d=\"M 657.324 171.014 L 660.935 176.851 Q 661.293 177.427, 661.869 178.47 Q 662.445 179.513, 662.476 179.575 L 662.476 171.014 L 663.94 171.014 L 663.94 182.035 L 662.43 182.035 L 658.553 175.653 Q 658.102 174.905, 657.619 174.049 Q 657.152 173.193, 657.012 172.928 L 657.012 182.035 L 655.58 182.035 L 655.58 171.014 L 657.324 171.014 \" fill=\"#0000FF\"/>\n",
       "<path class=\"atom-18\" d=\"M 655.448 183.137 L 656.942 183.137 L 656.942 187.823 L 662.577 187.823 L 662.577 183.137 L 664.072 183.137 L 664.072 194.158 L 662.577 194.158 L 662.577 189.068 L 656.942 189.068 L 656.942 194.158 L 655.448 194.158 L 655.448 183.137 \" fill=\"#0000FF\"/>\n",
       "<path class=\"atom-23\" d=\"M 805.065 136.265 Q 805.065 133.619, 806.373 132.14 Q 807.68 130.661, 810.124 130.661 Q 812.568 130.661, 813.876 132.14 Q 815.184 133.619, 815.184 136.265 Q 815.184 138.943, 813.86 140.468 Q 812.537 141.978, 810.124 141.978 Q 807.696 141.978, 806.373 140.468 Q 805.065 138.958, 805.065 136.265 M 810.124 140.733 Q 811.806 140.733, 812.708 139.612 Q 813.627 138.476, 813.627 136.265 Q 813.627 134.102, 812.708 133.012 Q 811.806 131.907, 810.124 131.907 Q 808.443 131.907, 807.525 132.996 Q 806.622 134.086, 806.622 136.265 Q 806.622 138.491, 807.525 139.612 Q 808.443 140.733, 810.124 140.733 \" fill=\"#FF0000\"/>\n",
       "<path class=\"atom-23\" d=\"M 816.507 130.786 L 818.001 130.786 L 818.001 135.471 L 823.636 135.471 L 823.636 130.786 L 825.131 130.786 L 825.131 141.807 L 823.636 141.807 L 823.636 136.717 L 818.001 136.717 L 818.001 141.807 L 816.507 141.807 L 816.507 130.786 \" fill=\"#FF0000\"/>\n",
       "<path class=\"atom-28\" d=\"M 944.427 171.356 Q 944.427 168.71, 945.735 167.231 Q 947.042 165.752, 949.486 165.752 Q 951.93 165.752, 953.238 167.231 Q 954.545 168.71, 954.545 171.356 Q 954.545 174.034, 953.222 175.559 Q 951.899 177.069, 949.486 177.069 Q 947.058 177.069, 945.735 175.559 Q 944.427 174.049, 944.427 171.356 M 949.486 175.824 Q 951.167 175.824, 952.07 174.703 Q 952.989 173.567, 952.989 171.356 Q 952.989 169.193, 952.07 168.103 Q 951.167 166.998, 949.486 166.998 Q 947.805 166.998, 946.887 168.087 Q 945.984 169.177, 945.984 171.356 Q 945.984 173.582, 946.887 174.703 Q 947.805 175.824, 949.486 175.824 \" fill=\"#FF0000\"/>\n",
       "<path class=\"atom-29\" d=\"M 910.724 112.98 Q 910.724 110.334, 912.031 108.855 Q 913.339 107.376, 915.783 107.376 Q 918.227 107.376, 919.535 108.855 Q 920.842 110.334, 920.842 112.98 Q 920.842 115.658, 919.519 117.184 Q 918.196 118.694, 915.783 118.694 Q 913.354 118.694, 912.031 117.184 Q 910.724 115.674, 910.724 112.98 M 915.783 117.448 Q 917.464 117.448, 918.367 116.327 Q 919.285 115.191, 919.285 112.98 Q 919.285 110.817, 918.367 109.727 Q 917.464 108.622, 915.783 108.622 Q 914.102 108.622, 913.183 109.711 Q 912.28 110.801, 912.28 112.98 Q 912.28 115.207, 913.183 116.327 Q 914.102 117.448, 915.783 117.448 \" fill=\"#FF0000\"/>\n",
       "<path class=\"atom-29\" d=\"M 922.165 107.501 L 923.66 107.501 L 923.66 112.187 L 929.295 112.187 L 929.295 107.501 L 930.789 107.501 L 930.789 118.522 L 929.295 118.522 L 929.295 113.432 L 923.66 113.432 L 923.66 118.522 L 922.165 118.522 L 922.165 107.501 \" fill=\"#FF0000\"/>\n",
       "<path d=\"M 257.779 147.559 L 263.827 147.559 L 263.827 141.191 L 266.515 141.191 L 266.515 147.559 L 272.723 147.559 L 272.723 149.863 L 266.515 149.863 L 266.515 156.263 L 263.827 156.263 L 263.827 149.863 L 257.779 149.863 L 257.779 147.559 \" fill=\"#000000\"/>\n",
       "<path d=\"M 848.663 147.559 L 854.711 147.559 L 854.711 141.191 L 857.399 141.191 L 857.399 147.559 L 863.607 147.559 L 863.607 149.863 L 857.399 149.863 L 857.399 156.263 L 854.711 156.263 L 854.711 149.863 L 848.663 149.863 L 848.663 147.559 \" fill=\"#000000\"/>\n",
       "<path d=\"M 451.954,149.863 L 555.733,149.863\" style=\"fill:none;fill-rule:evenodd;stroke:#000000;stroke-width:2.0px;stroke-linecap:butt;stroke-linejoin:miter;stroke-opacity:1\"/>\n",
       "<path d=\"M 555.733,149.863 L 551.239,147.269\" style=\"fill:none;fill-rule:evenodd;stroke:#000000;stroke-width:2.0px;stroke-linecap:butt;stroke-linejoin:miter;stroke-opacity:1\"/>\n",
       "<path d=\"M 555.733,149.863 L 551.239,152.458\" style=\"fill:none;fill-rule:evenodd;stroke:#000000;stroke-width:2.0px;stroke-linecap:butt;stroke-linejoin:miter;stroke-opacity:1\"/>\n",
       "</svg>"
      ],
      "text/plain": [
       "<IPython.core.display.SVG object>"
      ]
     },
     "execution_count": 3,
     "metadata": {},
     "output_type": "execute_result"
    }
   ],
   "source": [
    "drawReaction(rdChemReactions.ReactionFromSmarts(\"Nc1ccc(O)cc1.CC(=O)OC(C)=O>>CC(=O)Nc1ccc(O)cc1.CC(=O)O\",useSmiles=True))"
   ]
  }
 ],
 "metadata": {
  "kernelspec": {
   "display_name": "Python [conda env:impurityproject] *",
   "language": "python",
   "name": "conda-env-impurityproject-py"
  },
  "language_info": {
   "codemirror_mode": {
    "name": "ipython",
    "version": 3
   },
   "file_extension": ".py",
   "mimetype": "text/x-python",
   "name": "python",
   "nbconvert_exporter": "python",
   "pygments_lexer": "ipython3",
   "version": "3.8.8"
  },
  "toc": {
   "base_numbering": 1,
   "nav_menu": {},
   "number_sections": true,
   "sideBar": true,
   "skip_h1_title": false,
   "title_cell": "Table of Contents",
   "title_sidebar": "Contents",
   "toc_cell": false,
   "toc_position": {},
   "toc_section_display": true,
   "toc_window_display": false
  }
 },
 "nbformat": 4,
 "nbformat_minor": 5
}
